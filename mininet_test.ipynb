{
  "nbformat": 4,
  "nbformat_minor": 0,
  "metadata": {
    "colab": {
      "provenance": [],
      "authorship_tag": "ABX9TyPqcdNU2pjhtNqZoYBKO4Ps"
    },
    "kernelspec": {
      "name": "python3",
      "display_name": "Python 3"
    },
    "language_info": {
      "name": "python"
    }
  },
  "cells": [
    {
      "cell_type": "code",
      "execution_count": 1,
      "metadata": {
        "id": "qAV93DaTHtIE"
      },
      "outputs": [],
      "source": [
        "import torch\n",
        "from torch import nn"
      ]
    },
    {
      "cell_type": "code",
      "source": [
        "x=torch.randn(100,3)\n",
        "layer=nn.Linear(3,5)\n",
        "print(layer(x).shape)\n",
        "print(layer.weight)\n",
        "print(layer.bias)"
      ],
      "metadata": {
        "colab": {
          "base_uri": "https://localhost:8080/"
        },
        "id": "eOTt3vPHIREE",
        "outputId": "274e9336-1639-44f3-9a43-136768ec5b3c"
      },
      "execution_count": 2,
      "outputs": [
        {
          "output_type": "stream",
          "name": "stdout",
          "text": [
            "torch.Size([100, 5])\n",
            "Parameter containing:\n",
            "tensor([[-0.4532,  0.4661, -0.3224],\n",
            "        [ 0.3914,  0.2374,  0.2032],\n",
            "        [-0.0491,  0.5278, -0.4428],\n",
            "        [ 0.0803,  0.1786,  0.4087],\n",
            "        [ 0.1191,  0.1104,  0.0926]], requires_grad=True)\n",
            "Parameter containing:\n",
            "tensor([ 0.5704,  0.0215,  0.5463,  0.3204, -0.3796], requires_grad=True)\n"
          ]
        }
      ]
    },
    {
      "cell_type": "code",
      "source": [
        "x=torch.randn(2,5)\n",
        "print(x)\n",
        "layer=nn.ReLU()\n",
        "print(layer(x)) # 음수를 0으로 바꾼다"
      ],
      "metadata": {
        "colab": {
          "base_uri": "https://localhost:8080/"
        },
        "id": "qEktwsYZIi4E",
        "outputId": "105998f6-ead5-44b9-ec65-ebf3fdb6c067"
      },
      "execution_count": 3,
      "outputs": [
        {
          "output_type": "stream",
          "name": "stdout",
          "text": [
            "tensor([[ 0.1261, -0.1002, -0.2385,  0.8944,  0.7649],\n",
            "        [-0.8163,  0.8177,  0.1794,  0.8900, -1.9746]])\n",
            "tensor([[0.1261, 0.0000, 0.0000, 0.8944, 0.7649],\n",
            "        [0.0000, 0.8177, 0.1794, 0.8900, 0.0000]])\n"
          ]
        }
      ]
    },
    {
      "cell_type": "code",
      "source": [
        "x=torch.randn(3,7)\n",
        "print(x)\n",
        "drop = nn.Dropout(p=0.3) # p 는 죽일 확률, 통과하는 node 를 drop 한다\n",
        "print(drop(x))"
      ],
      "metadata": {
        "colab": {
          "base_uri": "https://localhost:8080/"
        },
        "id": "o2OKX41YIvIp",
        "outputId": "27c7d4d7-b8b2-468a-94ae-16a40db85c5f"
      },
      "execution_count": 4,
      "outputs": [
        {
          "output_type": "stream",
          "name": "stdout",
          "text": [
            "tensor([[ 1.1030, -1.4809, -0.0805, -1.4326, -2.5971,  0.6210,  0.1482],\n",
            "        [ 0.1984, -1.1153, -1.6442, -0.5004, -1.3771, -0.8876,  1.2738],\n",
            "        [-2.9493,  0.2669, -1.1588,  0.7165, -0.1659,  0.9614,  1.3419]])\n",
            "tensor([[ 0.0000, -2.1156, -0.1151, -2.0466, -3.7102,  0.8871,  0.2117],\n",
            "        [ 0.2834, -0.0000, -0.0000, -0.0000, -0.0000, -0.0000,  1.8197],\n",
            "        [-4.2133,  0.3813, -1.6554,  1.0236, -0.2370,  0.0000,  1.9170]])\n"
          ]
        }
      ]
    },
    {
      "cell_type": "code",
      "source": [
        "class sample_model(nn.Module) :\n",
        "    def __init__(self):\n",
        "        super().__init__()\n",
        "        self.drop_layer = nn.Sequential(nn.Linear(5,7), # 각 픽셀을 채널로 본다\n",
        "                                    nn.Dropout(p=0.3)\n",
        "                                    )\n",
        "    def forward(self, x):\n",
        "        x = self.drop_layer(x)\n",
        "        return x\n",
        "\n",
        "model = sample_model()\n",
        "model.train()\n",
        "x=torch.randn(3,5)\n",
        "print(model(x))\n",
        "\n",
        "\n",
        "model.eval()\n",
        "print(model(x)) # test 때는 다 살리고 모든 원소에 0.7만큼이 곱해진다"
      ],
      "metadata": {
        "colab": {
          "base_uri": "https://localhost:8080/"
        },
        "id": "JBb1XjxCKAiq",
        "outputId": "a1a1dd42-86ab-4aa3-c9d2-e0218bce5d13"
      },
      "execution_count": 5,
      "outputs": [
        {
          "output_type": "stream",
          "name": "stdout",
          "text": [
            "tensor([[-0.0000, -0.6839, -0.3406,  0.6230,  0.7870,  1.4430,  0.2070],\n",
            "        [ 0.0000, -0.3364,  1.2570, -0.0000,  0.0000, -0.0000,  1.9957],\n",
            "        [-0.0000, -0.0000,  0.0000, -0.2204, -0.8066,  0.0000, -0.7203]],\n",
            "       grad_fn=<MulBackward0>)\n",
            "tensor([[-0.2798, -0.4787, -0.2385,  0.4361,  0.5509,  1.0101,  0.1449],\n",
            "        [ 0.6142, -0.2355,  0.8799, -0.0493,  0.6499, -1.0393,  1.3970],\n",
            "        [-1.3016, -0.1446,  0.4031, -0.1543, -0.5646,  0.5906, -0.5042]],\n",
            "       grad_fn=<AddmmBackward0>)\n"
          ]
        }
      ]
    },
    {
      "cell_type": "code",
      "source": [
        "layer = nn.Conv2d(in_channels=1, out_channels=2, kernel_size=3, stride=1, padding=1) # 필터 사이즈가 3 by 3 stride, padding 은 0이 디폴트이다\n",
        "layer(torch.randn(32,1,5,5)).shape # 흑백사진 5 by 5 짜리 32개인데 channel 만 바뀜\n",
        "# nn.Linear(3,5) # 1d data 이기 때문에 채 또는 개채를 원함\n",
        "# nn.Conv2d(3,5) # 2d data 이기 때문에 채행열 또는 개채행열 형태로 줘야한다 개 * 3 * 행 * 열"
      ],
      "metadata": {
        "colab": {
          "base_uri": "https://localhost:8080/"
        },
        "id": "WtFkW9biMHrb",
        "outputId": "e1a42ae8-314a-497d-cd5e-d96d28582b77"
      },
      "execution_count": 6,
      "outputs": [
        {
          "output_type": "execute_result",
          "data": {
            "text/plain": [
              "torch.Size([32, 2, 5, 5])"
            ]
          },
          "metadata": {},
          "execution_count": 6
        }
      ]
    },
    {
      "cell_type": "code",
      "source": [
        "layer = nn.Conv2d(3,5,3,stride=2,padding=1) # 3개 채널로 들어가서 5개 채널로 나오고 커널 사이즈는 3*3\n",
        "layer.weight.shape"
      ],
      "metadata": {
        "colab": {
          "base_uri": "https://localhost:8080/"
        },
        "id": "cSM__r8DNuLz",
        "outputId": "f85d80a6-8f0a-49cd-8d80-44487eba17d2"
      },
      "execution_count": 7,
      "outputs": [
        {
          "output_type": "execute_result",
          "data": {
            "text/plain": [
              "torch.Size([5, 3, 3, 3])"
            ]
          },
          "metadata": {},
          "execution_count": 7
        }
      ]
    },
    {
      "cell_type": "code",
      "source": [
        "conv1=nn.Conv2d(1,8,6,stride=2) # 흑백사진의 8개의 특징을 뽑는다\n",
        "x=torch.randn(32,1,28,28)\n",
        "print(conv1(x).shape)\n",
        "\n",
        "conv2=nn.Conv2d(8,16,3, padding=1)\n",
        "print(conv2(conv1(x)).shape)\n",
        "\n",
        "Maxpool=nn.MaxPool2d(kernel_size=2, stride=(2,2))\n",
        "print(Maxpool(conv2(conv1(x))).shape) # 채널 개수는 유지된다"
      ],
      "metadata": {
        "colab": {
          "base_uri": "https://localhost:8080/"
        },
        "id": "YHd8tN9tY7WF",
        "outputId": "99245dec-82cb-4959-b500-3b16449e3f01"
      },
      "execution_count": 8,
      "outputs": [
        {
          "output_type": "stream",
          "name": "stdout",
          "text": [
            "torch.Size([32, 8, 12, 12])\n",
            "torch.Size([32, 16, 12, 12])\n",
            "torch.Size([32, 16, 6, 6])\n"
          ]
        }
      ]
    },
    {
      "cell_type": "code",
      "source": [
        "maxpool=nn.MaxPool2d(2) # 이걸로만 줘도 kernel_size=2  stride = (2,2)\n",
        "x=torch.randn(1,1,6,6)\n",
        "print(x.shape)\n",
        "print(maxpool(x).shape)\n",
        "print(maxpool(torch.randn(32,3,6,6)).shape) # 채널은 변화가 없다"
      ],
      "metadata": {
        "colab": {
          "base_uri": "https://localhost:8080/"
        },
        "id": "jqqxgZBaa6oH",
        "outputId": "2c77be5d-ca9f-4703-924d-d3e891184dab"
      },
      "execution_count": 9,
      "outputs": [
        {
          "output_type": "stream",
          "name": "stdout",
          "text": [
            "torch.Size([1, 1, 6, 6])\n",
            "torch.Size([1, 1, 3, 3])\n",
            "torch.Size([32, 3, 3, 3])\n"
          ]
        }
      ]
    },
    {
      "cell_type": "code",
      "source": [
        "avgpool=nn.AvgPool2d(2) # 이걸로만 줘도 kernel_size=2  stride = (2,2)\n",
        "x=torch.randn(1,1,6,6)\n",
        "print(x.shape)\n",
        "print(avgpool(x).shape)\n",
        "print(avgpool(torch.randn(32,3,6,6)).shape) # 채널은 변화가 없다"
      ],
      "metadata": {
        "colab": {
          "base_uri": "https://localhost:8080/"
        },
        "id": "qlIF6iXBbfSe",
        "outputId": "e97ad296-9e43-48a7-da36-2cc0e49da088"
      },
      "execution_count": 10,
      "outputs": [
        {
          "output_type": "stream",
          "name": "stdout",
          "text": [
            "torch.Size([1, 1, 6, 6])\n",
            "torch.Size([1, 1, 3, 3])\n",
            "torch.Size([32, 3, 3, 3])\n"
          ]
        }
      ]
    },
    {
      "cell_type": "code",
      "source": [
        "class CNN(nn.Module):\n",
        "    def __init__(self) :\n",
        "        super().__init__()\n",
        "\n",
        "        self.conv1= nn.Conv2d(1,8,6,stride=2)\n",
        "        self.conv2= nn.Conv2d(8,16,3,padding=1)\n",
        "        self.Maxpool2= nn.MaxPool2d(2)\n",
        "        self.fc=nn.Linear(16*6*6,10)\n",
        "\n",
        "    def forward(self, x) :\n",
        "        x = self.conv1(x)\n",
        "        x = self.conv2(x)\n",
        "        x = self.Maxpool2(x)\n",
        "        x = torch.flatten(x, start_dim=1)\n",
        "        x = self.fc(x)\n",
        "        return x\n",
        "\n",
        "x=torch.randn(32,1,28,28)\n",
        "model=CNN()\n",
        "model(x).shape"
      ],
      "metadata": {
        "colab": {
          "base_uri": "https://localhost:8080/"
        },
        "id": "Yt8dp361br2V",
        "outputId": "df6f6fb8-47b0-44b6-9ce1-4ffe38964f97"
      },
      "execution_count": 11,
      "outputs": [
        {
          "output_type": "execute_result",
          "data": {
            "text/plain": [
              "torch.Size([32, 10])"
            ]
          },
          "metadata": {},
          "execution_count": 11
        }
      ]
    },
    {
      "cell_type": "markdown",
      "source": [
        ".parameters() vs .modules() vs .children() 그리고 isinstance의 활용"
      ],
      "metadata": {
        "id": "qAxT8bhbq-ko"
      }
    },
    {
      "cell_type": "code",
      "source": [
        "class MLP(nn.Module):\n",
        "    def __init__(self):\n",
        "        super().__init__()\n",
        "        self.fc1 = nn.Sequential(nn.Linear(2,3),\n",
        "                                 nn.ReLU())\n",
        "        self.fc2 = nn.Sequential(nn.Linear(3,4),\n",
        "                                 nn.ReLU())\n",
        "        self.fc_out = nn.Sequential(nn.Linear(4,1),\n",
        "                                    nn.Sigmoid())\n",
        "    def forward(self,x):\n",
        "        x = self.fc1(x)\n",
        "        x = self.fc2(x)\n",
        "        x = self.fc_out(x)\n",
        "        return x\n",
        "\n",
        "model = MLP()\n",
        "print(model(torch.randn(2,2)).shape)\n",
        "print(model)"
      ],
      "metadata": {
        "id": "nGH4R1b3bwRl",
        "colab": {
          "base_uri": "https://localhost:8080/"
        },
        "outputId": "c29245b9-88e7-43c2-c614-53f470faf317"
      },
      "execution_count": 29,
      "outputs": [
        {
          "output_type": "stream",
          "name": "stdout",
          "text": [
            "torch.Size([2, 1])\n",
            "MLP(\n",
            "  (fc1): Sequential(\n",
            "    (0): Linear(in_features=2, out_features=3, bias=True)\n",
            "    (1): ReLU()\n",
            "  )\n",
            "  (fc2): Sequential(\n",
            "    (0): Linear(in_features=3, out_features=4, bias=True)\n",
            "    (1): ReLU()\n",
            "  )\n",
            "  (fc_out): Sequential(\n",
            "    (0): Linear(in_features=4, out_features=1, bias=True)\n",
            "    (1): Sigmoid()\n",
            "  )\n",
            ")\n"
          ]
        }
      ]
    },
    {
      "cell_type": "code",
      "source": [
        "model.parameters()"
      ],
      "metadata": {
        "colab": {
          "base_uri": "https://localhost:8080/"
        },
        "id": "518MDVrrriEt",
        "outputId": "42cec510-6ea8-4ce7-8769-9830c351f35f"
      },
      "execution_count": 13,
      "outputs": [
        {
          "output_type": "execute_result",
          "data": {
            "text/plain": [
              "<generator object Module.parameters at 0x78c4b2141a80>"
            ]
          },
          "metadata": {},
          "execution_count": 13
        }
      ]
    },
    {
      "cell_type": "code",
      "source": [
        "list(model.parameters())[0] # layer 0 의 weight 출력\n",
        "# [layer0 weight 값, layer0 bias 값, layer1 weight 값, layer1 bias 값, ...]"
      ],
      "metadata": {
        "colab": {
          "base_uri": "https://localhost:8080/"
        },
        "id": "u-UcIg8wrmcl",
        "outputId": "8ce50651-d6c5-48eb-e04e-c172e8cb4541"
      },
      "execution_count": 34,
      "outputs": [
        {
          "output_type": "execute_result",
          "data": {
            "text/plain": [
              "Parameter containing:\n",
              "tensor([[-0.3468,  0.3231],\n",
              "        [-0.2883,  0.3686],\n",
              "        [-0.0053,  0.0751]], requires_grad=True)"
            ]
          },
          "metadata": {},
          "execution_count": 34
        }
      ]
    },
    {
      "cell_type": "code",
      "source": [
        "# for transfer learning\n",
        "# 기존의 학습된 모델을 불러온 다음에 다섯개를 분류하도록 바꾸고 재학습 시키고 싶다\n",
        "# 애초에 학습을 잘 했기 때문에 앞부분은 얼리고 뒷 부분만 재학습하고싶기 때문이다\n",
        "model = MLP()\n",
        "print((model.parameters()))\n",
        "print([p for p in model.parameters() if p.requires_grad], end=\"\\n\\n\")\n",
        "\n",
        "for p in (model.parameters()) :\n",
        "    p.requires_grad = False # 전부다 false 로 둔다 전체 freeze\n",
        "model.fc_out=nn.Linear(4,10)\n",
        "\n",
        "params= [p for p in model.parameters() if p.requires_grad]\n",
        "print(params) # 10*4 파라미터만 나온다\n",
        "\n",
        "from torch import optim\n",
        "optimizer = optim.Adam(params, lr=0.1)"
      ],
      "metadata": {
        "colab": {
          "base_uri": "https://localhost:8080/"
        },
        "id": "IdTAHJ_TroYB",
        "outputId": "2636fa32-a67a-48c2-a977-fe4ef0f368ba"
      },
      "execution_count": 65,
      "outputs": [
        {
          "output_type": "stream",
          "name": "stdout",
          "text": [
            "<generator object Module.parameters at 0x78c3e1e9f0d0>\n",
            "[Parameter containing:\n",
            "tensor([[ 0.0174,  0.0401],\n",
            "        [ 0.5883, -0.0950],\n",
            "        [-0.1034, -0.2883]], requires_grad=True), Parameter containing:\n",
            "tensor([-0.2945, -0.6316, -0.5731], requires_grad=True), Parameter containing:\n",
            "tensor([[-0.0488,  0.0790,  0.3918],\n",
            "        [ 0.1530, -0.5444,  0.2007],\n",
            "        [-0.4651, -0.3863,  0.4828],\n",
            "        [-0.5596, -0.4091, -0.5624]], requires_grad=True), Parameter containing:\n",
            "tensor([-0.3343,  0.0782, -0.5554,  0.3955], requires_grad=True), Parameter containing:\n",
            "tensor([[ 0.3146,  0.4200, -0.4280,  0.3499]], requires_grad=True), Parameter containing:\n",
            "tensor([-0.2953], requires_grad=True)]\n",
            "\n",
            "[Parameter containing:\n",
            "tensor([[ 0.3320,  0.4198, -0.4424,  0.4328],\n",
            "        [-0.1804,  0.2842,  0.3226,  0.3841],\n",
            "        [ 0.4644, -0.2826, -0.1200,  0.4851],\n",
            "        [ 0.2865, -0.1661,  0.1615, -0.0204],\n",
            "        [ 0.2603, -0.3224, -0.1540,  0.3812],\n",
            "        [-0.1171, -0.1280,  0.1649, -0.0378],\n",
            "        [-0.2639,  0.3684, -0.1313,  0.2565],\n",
            "        [ 0.0740,  0.3468, -0.1118, -0.4473],\n",
            "        [-0.2198,  0.1457, -0.1015,  0.0328],\n",
            "        [-0.4949,  0.3897, -0.4500,  0.4090]], requires_grad=True), Parameter containing:\n",
            "tensor([-0.0348, -0.3538,  0.1089, -0.0749, -0.4562, -0.0239, -0.1090, -0.3641,\n",
            "        -0.2346, -0.3069], requires_grad=True)]\n"
          ]
        }
      ]
    },
    {
      "cell_type": "code",
      "source": [
        "for name, p in model.named_parameters():\n",
        "    print(name)\n",
        "    print(p)"
      ],
      "metadata": {
        "colab": {
          "base_uri": "https://localhost:8080/"
        },
        "id": "Vww1yWYVthlm",
        "outputId": "51b1ad47-ac6b-4b28-9607-5114811245e1"
      },
      "execution_count": 60,
      "outputs": [
        {
          "output_type": "stream",
          "name": "stdout",
          "text": [
            "fc1.0.weight\n",
            "Parameter containing:\n",
            "tensor([[-0.3224,  0.0928],\n",
            "        [ 0.2689, -0.5234],\n",
            "        [ 0.6958,  0.5945]])\n",
            "fc1.0.bias\n",
            "Parameter containing:\n",
            "tensor([ 0.3231, -0.1216, -0.5034])\n",
            "fc2.0.weight\n",
            "Parameter containing:\n",
            "tensor([[-0.2259,  0.5339,  0.0008],\n",
            "        [-0.4662,  0.2670, -0.3930],\n",
            "        [-0.0307,  0.1550, -0.2224],\n",
            "        [-0.0075, -0.1435,  0.0292]])\n",
            "fc2.0.bias\n",
            "Parameter containing:\n",
            "tensor([ 0.2364,  0.1188,  0.0966, -0.3861])\n",
            "fc_out.weight\n",
            "Parameter containing:\n",
            "tensor([[ 0.0038, -0.0100, -0.3636,  0.1592],\n",
            "        [ 0.2929, -0.2792, -0.2464, -0.3132],\n",
            "        [-0.1616, -0.2914, -0.3631, -0.2821],\n",
            "        [-0.1581, -0.0815,  0.4878,  0.4663],\n",
            "        [-0.1999,  0.4292,  0.4073,  0.1147],\n",
            "        [-0.1461,  0.3589,  0.2366,  0.3418],\n",
            "        [ 0.1731, -0.1623,  0.4322,  0.2349],\n",
            "        [ 0.3901,  0.4902,  0.2387,  0.3989],\n",
            "        [-0.4732, -0.2399,  0.0695,  0.0662],\n",
            "        [-0.3898,  0.4730,  0.1328, -0.4269]], requires_grad=True)\n",
            "fc_out.bias\n",
            "Parameter containing:\n",
            "tensor([-0.0110,  0.3641,  0.2563,  0.1191, -0.2939,  0.1622,  0.0077, -0.3417,\n",
            "        -0.1415,  0.3270], requires_grad=True)\n"
          ]
        }
      ]
    },
    {
      "cell_type": "code",
      "source": [
        "model.modules()"
      ],
      "metadata": {
        "colab": {
          "base_uri": "https://localhost:8080/"
        },
        "id": "Vyy9KBtO0xu9",
        "outputId": "8e7f98f0-5e4f-443f-8abf-6e94f90a1ce3"
      },
      "execution_count": 61,
      "outputs": [
        {
          "output_type": "execute_result",
          "data": {
            "text/plain": [
              "<generator object Module.modules at 0x78c3e1e9f220>"
            ]
          },
          "metadata": {},
          "execution_count": 61
        }
      ]
    },
    {
      "cell_type": "code",
      "source": [
        "list(model.modules())"
      ],
      "metadata": {
        "colab": {
          "base_uri": "https://localhost:8080/"
        },
        "id": "HpM12IjJ0zE5",
        "outputId": "45474305-9d59-41aa-939c-49171011362a"
      },
      "execution_count": 62,
      "outputs": [
        {
          "output_type": "execute_result",
          "data": {
            "text/plain": [
              "[MLP(\n",
              "   (fc1): Sequential(\n",
              "     (0): Linear(in_features=2, out_features=3, bias=True)\n",
              "     (1): ReLU()\n",
              "   )\n",
              "   (fc2): Sequential(\n",
              "     (0): Linear(in_features=3, out_features=4, bias=True)\n",
              "     (1): ReLU()\n",
              "   )\n",
              "   (fc_out): Linear(in_features=4, out_features=10, bias=True)\n",
              " ),\n",
              " Sequential(\n",
              "   (0): Linear(in_features=2, out_features=3, bias=True)\n",
              "   (1): ReLU()\n",
              " ),\n",
              " Linear(in_features=2, out_features=3, bias=True),\n",
              " ReLU(),\n",
              " Sequential(\n",
              "   (0): Linear(in_features=3, out_features=4, bias=True)\n",
              "   (1): ReLU()\n",
              " ),\n",
              " Linear(in_features=3, out_features=4, bias=True),\n",
              " ReLU(),\n",
              " Linear(in_features=4, out_features=10, bias=True)]"
            ]
          },
          "metadata": {},
          "execution_count": 62
        }
      ]
    },
    {
      "cell_type": "code",
      "source": [
        "print([m for m in model.modules() if isinstance(m,nn.Linear)], end = \"\\n\\n\")\n",
        "print([m.weight for m in model.modules() if isinstance(m,nn.Linear)], end = \"\\n\\n\")\n",
        "print([m.weight.grad for m in model.modules() if isinstance(m,nn.Linear)]) # gradient vanishing 확인"
      ],
      "metadata": {
        "colab": {
          "base_uri": "https://localhost:8080/"
        },
        "id": "fqVtCAq91hQ3",
        "outputId": "01bf29e3-9733-406c-ec45-f1db67af77d7"
      },
      "execution_count": 69,
      "outputs": [
        {
          "output_type": "stream",
          "name": "stdout",
          "text": [
            "[Linear(in_features=2, out_features=3, bias=True), Linear(in_features=3, out_features=4, bias=True), Linear(in_features=4, out_features=10, bias=True)]\n",
            "\n",
            "[Parameter containing:\n",
            "tensor([[ 0.0174,  0.0401],\n",
            "        [ 0.5883, -0.0950],\n",
            "        [-0.1034, -0.2883]]), Parameter containing:\n",
            "tensor([[-0.0488,  0.0790,  0.3918],\n",
            "        [ 0.1530, -0.5444,  0.2007],\n",
            "        [-0.4651, -0.3863,  0.4828],\n",
            "        [-0.5596, -0.4091, -0.5624]]), Parameter containing:\n",
            "tensor([[ 0.3320,  0.4198, -0.4424,  0.4328],\n",
            "        [-0.1804,  0.2842,  0.3226,  0.3841],\n",
            "        [ 0.4644, -0.2826, -0.1200,  0.4851],\n",
            "        [ 0.2865, -0.1661,  0.1615, -0.0204],\n",
            "        [ 0.2603, -0.3224, -0.1540,  0.3812],\n",
            "        [-0.1171, -0.1280,  0.1649, -0.0378],\n",
            "        [-0.2639,  0.3684, -0.1313,  0.2565],\n",
            "        [ 0.0740,  0.3468, -0.1118, -0.4473],\n",
            "        [-0.2198,  0.1457, -0.1015,  0.0328],\n",
            "        [-0.4949,  0.3897, -0.4500,  0.4090]], requires_grad=True)]\n",
            "\n",
            "[None, None, None]\n"
          ]
        }
      ]
    },
    {
      "cell_type": "code",
      "source": [
        "# weight initialization에 활용\n",
        "for m in model.modules():\n",
        "    if isinstance(m, nn.Linear):\n",
        "        nn.init.kaiming_normal_(m.weight)\n",
        "        # nn.init.constant_(m.weight, 1)\n",
        "\n",
        "print([m.weight for m in model.modules() if isinstance(m, nn.Linear)])"
      ],
      "metadata": {
        "colab": {
          "base_uri": "https://localhost:8080/"
        },
        "id": "IiMANcgY4bZo",
        "outputId": "0212b6b3-be94-4d0c-b77d-5822a258277d"
      },
      "execution_count": 70,
      "outputs": [
        {
          "output_type": "stream",
          "name": "stdout",
          "text": [
            "[Parameter containing:\n",
            "tensor([[ 3.2608, -0.5390],\n",
            "        [ 0.3578, -1.2526],\n",
            "        [ 1.9410,  0.7032]]), Parameter containing:\n",
            "tensor([[-0.4404,  0.9349,  0.3352],\n",
            "        [-0.7678, -0.8273,  0.2874],\n",
            "        [-0.5276, -0.0886,  0.4459],\n",
            "        [ 2.2280, -0.1088, -0.8963]]), Parameter containing:\n",
            "tensor([[-0.3366,  0.3932,  1.1226, -0.0656],\n",
            "        [ 0.2324, -0.0079, -0.5172,  0.1989],\n",
            "        [-0.2029, -0.7795, -0.6597, -1.1412],\n",
            "        [-0.8626, -0.4629,  0.5586, -1.2564],\n",
            "        [ 0.0052,  0.6478,  0.3916,  0.1234],\n",
            "        [-0.1667,  0.6475,  0.5794, -0.2721],\n",
            "        [-0.5599, -0.4259, -0.0449, -1.0640],\n",
            "        [ 0.8251, -0.6292, -0.5061, -0.2629],\n",
            "        [ 0.6280,  0.9792,  0.7995, -0.8225],\n",
            "        [-0.6603, -0.4367,  0.3568,  0.5394]], requires_grad=True)]\n"
          ]
        }
      ]
    },
    {
      "cell_type": "code",
      "source": [
        "model.children()"
      ],
      "metadata": {
        "colab": {
          "base_uri": "https://localhost:8080/"
        },
        "id": "BRhRV1TO4tn8",
        "outputId": "e2c68f79-6101-4c88-845a-318d1154f41f"
      },
      "execution_count": 72,
      "outputs": [
        {
          "output_type": "execute_result",
          "data": {
            "text/plain": [
              "<generator object Module.children at 0x78c3e1e9f610>"
            ]
          },
          "metadata": {},
          "execution_count": 72
        }
      ]
    },
    {
      "cell_type": "code",
      "source": [
        "list(model.children()) # init 에서 만든 attribute 단위로 준다"
      ],
      "metadata": {
        "colab": {
          "base_uri": "https://localhost:8080/"
        },
        "id": "bFQl8b1P4xcZ",
        "outputId": "d36437a2-0c79-436f-b1c3-020b1eaa6fa7"
      },
      "execution_count": 75,
      "outputs": [
        {
          "output_type": "execute_result",
          "data": {
            "text/plain": [
              "[Sequential(\n",
              "   (0): Linear(in_features=2, out_features=3, bias=True)\n",
              "   (1): ReLU()\n",
              " ),\n",
              " Sequential(\n",
              "   (0): Linear(in_features=3, out_features=4, bias=True)\n",
              "   (1): ReLU()\n",
              " ),\n",
              " Linear(in_features=4, out_features=10, bias=True)]"
            ]
          },
          "metadata": {},
          "execution_count": 75
        }
      ]
    },
    {
      "cell_type": "code",
      "source": [
        "x = torch.randn(2,2)\n",
        "list(model.children())[0](x) # 0번째 layer를 통과시켜"
      ],
      "metadata": {
        "colab": {
          "base_uri": "https://localhost:8080/"
        },
        "id": "IYhbi2T74zN_",
        "outputId": "6dbace93-db96-48e9-bb1a-5afa112975ae"
      },
      "execution_count": 77,
      "outputs": [
        {
          "output_type": "execute_result",
          "data": {
            "text/plain": [
              "tensor([[0.0000, 0.0000, 0.0000],\n",
              "        [1.0477, 0.0000, 1.4670]])"
            ]
          },
          "metadata": {},
          "execution_count": 77
        }
      ]
    },
    {
      "cell_type": "code",
      "source": [
        "# print(*list(model.children())[:2])\n",
        "sub_network = nn.Sequential(*list(model.children())[:2])\n",
        "print(sub_network)\n",
        "sub_network(x)"
      ],
      "metadata": {
        "colab": {
          "base_uri": "https://localhost:8080/"
        },
        "id": "Izlg8b_w5SO-",
        "outputId": "4860a9c4-c1ad-4d89-e07c-69380f797436"
      },
      "execution_count": 86,
      "outputs": [
        {
          "output_type": "stream",
          "name": "stdout",
          "text": [
            "Sequential(\n",
            "  (0): Sequential(\n",
            "    (0): Linear(in_features=2, out_features=3, bias=True)\n",
            "    (1): ReLU()\n",
            "  )\n",
            "  (1): Sequential(\n",
            "    (0): Linear(in_features=3, out_features=4, bias=True)\n",
            "    (1): ReLU()\n",
            "  )\n",
            ")\n"
          ]
        },
        {
          "output_type": "execute_result",
          "data": {
            "text/plain": [
              "tensor([[0.0000, 0.0782, 0.0000, 0.3955],\n",
              "        [0.0000, 0.0000, 0.0000, 1.4150]])"
            ]
          },
          "metadata": {},
          "execution_count": 86
        }
      ]
    },
    {
      "cell_type": "markdown",
      "source": [
        "## ModuleList vs Sequential"
      ],
      "metadata": {
        "id": "p-1XUkZo7Cj5"
      }
    },
    {
      "cell_type": "code",
      "source": [
        "fc=nn.Linear(3,3)\n",
        "layer_list = [fc for _ in range(5)]\n",
        "layers1 = nn.Sequential(*layer_list)\n",
        "layers2 = nn.ModuleList(layer_list) # * 안써도 된다\n",
        "\n",
        "print(layers1)\n",
        "print(layers2)\n",
        "\n",
        "x=torch.randn(1,3)\n",
        "print(layers1(x))\n",
        "\n",
        "# print(layers2(x)) # error!! nn.Sequential 과 달리 이건 forward 함수가 내장되어 있지 않다\n",
        "\n",
        "for layer in layers2:\n",
        "    x=layer(x)\n",
        "print(x)"
      ],
      "metadata": {
        "colab": {
          "base_uri": "https://localhost:8080/"
        },
        "id": "J2-s7U9a7F3b",
        "outputId": "7de4c704-a051-4c62-a3fa-97bd1ab77b8e"
      },
      "execution_count": 96,
      "outputs": [
        {
          "output_type": "stream",
          "name": "stdout",
          "text": [
            "Sequential(\n",
            "  (0): Linear(in_features=3, out_features=3, bias=True)\n",
            "  (1): Linear(in_features=3, out_features=3, bias=True)\n",
            "  (2): Linear(in_features=3, out_features=3, bias=True)\n",
            "  (3): Linear(in_features=3, out_features=3, bias=True)\n",
            "  (4): Linear(in_features=3, out_features=3, bias=True)\n",
            ")\n",
            "ModuleList(\n",
            "  (0-4): 5 x Linear(in_features=3, out_features=3, bias=True)\n",
            ")\n",
            "tensor([[0.1717, 0.2065, 0.3726]], grad_fn=<AddmmBackward0>)\n",
            "tensor([[0.1717, 0.2065, 0.3726]], grad_fn=<AddmmBackward0>)\n"
          ]
        }
      ]
    },
    {
      "cell_type": "code",
      "source": [
        "# 그럼 nn.Sequential 쓰고 말지 왜 굳이 nn.ModuleList?\n",
        "class small_block(nn.Module):\n",
        "    def __init__(self):\n",
        "        super().__init__()\n",
        "        self.block_x = nn.Linear(1,1)\n",
        "        self.block_y = nn.Linear(1,1)\n",
        "\n",
        "    def forward(self, x, y):\n",
        "        x = self.block_x(x)\n",
        "        y = self.block_y(y)\n",
        "        return x, y\n",
        "\n",
        "block = small_block()\n",
        "print(block)\n",
        "model = nn.Sequential(block, block) # Sequential 함수는 forward 함수에 하나만 넣도록 되어있다\n",
        "print(model)\n",
        "# model(torch.randn(1), torch.randn(1)) # error!\n",
        "# nn.Sequential 이 가지고 있는 forward 함수를 call 하기 때문에 입력을 두 개 넣으면 안된다!!\n",
        "\n",
        "model = nn.ModuleList([block,block])\n",
        "x = torch.randn(1)\n",
        "y = torch.randn(1)\n",
        "print(x,y)\n",
        "print(model)\n",
        "for block in model:\n",
        "    x, y = block(x,y)\n",
        "print(x, y)"
      ],
      "metadata": {
        "colab": {
          "base_uri": "https://localhost:8080/"
        },
        "id": "o1W7x5Px8rsm",
        "outputId": "970568c8-a9a4-4b12-e50c-12ff0bf73dfb"
      },
      "execution_count": 99,
      "outputs": [
        {
          "output_type": "stream",
          "name": "stdout",
          "text": [
            "small_block(\n",
            "  (block_x): Linear(in_features=1, out_features=1, bias=True)\n",
            "  (block_y): Linear(in_features=1, out_features=1, bias=True)\n",
            ")\n",
            "Sequential(\n",
            "  (0): small_block(\n",
            "    (block_x): Linear(in_features=1, out_features=1, bias=True)\n",
            "    (block_y): Linear(in_features=1, out_features=1, bias=True)\n",
            "  )\n",
            "  (1): small_block(\n",
            "    (block_x): Linear(in_features=1, out_features=1, bias=True)\n",
            "    (block_y): Linear(in_features=1, out_features=1, bias=True)\n",
            "  )\n",
            ")\n",
            "tensor([-1.4715]) tensor([1.2752])\n",
            "ModuleList(\n",
            "  (0-1): 2 x small_block(\n",
            "    (block_x): Linear(in_features=1, out_features=1, bias=True)\n",
            "    (block_y): Linear(in_features=1, out_features=1, bias=True)\n",
            "  )\n",
            ")\n",
            "tensor([-0.0752], grad_fn=<ViewBackward0>) tensor([0.6366], grad_fn=<ViewBackward0>)\n"
          ]
        }
      ]
    }
  ]
}