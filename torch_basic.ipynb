{
  "nbformat": 4,
  "nbformat_minor": 0,
  "metadata": {
    "colab": {
      "provenance": []
    },
    "kernelspec": {
      "name": "python3",
      "display_name": "Python 3"
    },
    "language_info": {
      "name": "python"
    }
  },
  "cells": [
    {
      "cell_type": "markdown",
      "source": [
        "## numpy 와 닮은 파이토치 (pytorch)\n",
        "\n"
      ],
      "metadata": {
        "id": "RzMsP9hsc36l"
      }
    },
    {
      "cell_type": "code",
      "source": [
        "import torch"
      ],
      "metadata": {
        "id": "pIQHk5TbDeln"
      },
      "execution_count": 3,
      "outputs": []
    },
    {
      "cell_type": "code",
      "source": [
        "a=torch.tensor([1,2,3,4])\n",
        "print(a)\n",
        "print(type(a))\n",
        "print(a.dtype) # data type\n",
        "print(a.shape)\n",
        "print(a)\n",
        "b=torch.tensor([1,2, 3.1   , 4])\n",
        "print(b.dtype) # 하나라도 실수면 자동으로 실수 타입으로\n",
        "print(b.shape)\n",
        "print(b)"
      ],
      "metadata": {
        "colab": {
          "base_uri": "https://localhost:8080/"
        },
        "id": "SAmMX78Lc3Iy",
        "outputId": "19d63883-239e-4f0e-b597-8016fde2f4f7"
      },
      "execution_count": null,
      "outputs": [
        {
          "output_type": "stream",
          "name": "stdout",
          "text": [
            "tensor([1, 2, 3, 4])\n",
            "<class 'torch.Tensor'>\n",
            "torch.int64\n",
            "torch.Size([4])\n",
            "tensor([1, 2, 3, 4])\n",
            "torch.float32\n",
            "torch.Size([4])\n",
            "tensor([1.0000, 2.0000, 3.1000, 4.0000])\n"
          ]
        }
      ]
    },
    {
      "cell_type": "code",
      "source": [
        "A=torch.tensor([[1,2,3],[3,4,5]])\n",
        "# A=torch.tensor([[1,2],[3,4,5]]) # 리스트와는 달리 이제는 행렬이라서 각 행에 해당하는 숫자의 개수가 같아야 함\n",
        "print(A)\n",
        "print(A.shape) # 2행 3열\n",
        "print(A.ndim) # 차원의 수 바깥의 괄호 수가 차원을 나타냄\n",
        "print(A.size)\n",
        "print(A.numel()) # 전체 성분의 수"
      ],
      "metadata": {
        "colab": {
          "base_uri": "https://localhost:8080/"
        },
        "id": "QRPA6o3EdDy5",
        "outputId": "d938fe5c-8d89-4a4c-b5ad-4dd9e2811b9b"
      },
      "execution_count": null,
      "outputs": [
        {
          "output_type": "stream",
          "name": "stdout",
          "text": [
            "tensor([[1, 2, 3],\n",
            "        [3, 4, 5]])\n",
            "torch.Size([2, 3])\n",
            "2\n",
            "<built-in method size of Tensor object at 0x7867a868f420>\n",
            "6\n"
          ]
        }
      ]
    },
    {
      "cell_type": "code",
      "source": [
        "print(torch.zeros(5))\n",
        "print(torch.zeros(5).dtype)\n",
        "print(torch.zeros_like(A))\n",
        "print(torch.ones(5))\n",
        "print(torch.zeros( (3,3) )) # 튜플을 입력으로! 그냥 np.zeros(3,3)은 안돼요\n",
        "print(torch.arange(3,10,2)) # range랑 같은데 array로 만들어줌\n",
        "print(torch.arange(0,1,0.1)) # 소수점 가능 마지막 포함 안한다\n",
        "print(torch.linspace(0,1,10)) # 0 에서부터 1 포함(default) 10개로"
      ],
      "metadata": {
        "colab": {
          "base_uri": "https://localhost:8080/"
        },
        "id": "DtQ20sP8dv8i",
        "outputId": "9a2648b0-a414-4368-ef48-e415b3f7fcbe"
      },
      "execution_count": null,
      "outputs": [
        {
          "output_type": "stream",
          "name": "stdout",
          "text": [
            "tensor([0., 0., 0., 0., 0.])\n",
            "torch.float32\n",
            "tensor([[0, 0, 0],\n",
            "        [0, 0, 0]])\n",
            "tensor([1., 1., 1., 1., 1.])\n",
            "tensor([[0., 0., 0.],\n",
            "        [0., 0., 0.],\n",
            "        [0., 0., 0.]])\n",
            "tensor([3, 5, 7, 9])\n",
            "tensor([0.0000, 0.1000, 0.2000, 0.3000, 0.4000, 0.5000, 0.6000, 0.7000, 0.8000,\n",
            "        0.9000])\n",
            "tensor([0.0000, 0.1111, 0.2222, 0.3333, 0.4444, 0.5556, 0.6667, 0.7778, 0.8889,\n",
            "        1.0000])\n"
          ]
        }
      ]
    },
    {
      "cell_type": "code",
      "source": [
        "a=torch.tensor([1,2,3]) #1d tensor는 행렬이라고 하지 않는다\n",
        "b=torch.tensor([4,5,6])\n",
        "c=a+b\n",
        "print(c) # 드디어! 양 옆으로 길어지는 게 아닌 벡터의 합이 나옴! 리스트는 길어진다"
      ],
      "metadata": {
        "colab": {
          "base_uri": "https://localhost:8080/"
        },
        "id": "mEY_M0PPfRCz",
        "outputId": "950301aa-9a3d-4456-91a1-2e4b6bae6f3c"
      },
      "execution_count": null,
      "outputs": [
        {
          "output_type": "stream",
          "name": "stdout",
          "text": [
            "tensor([5, 7, 9])\n"
          ]
        }
      ]
    },
    {
      "cell_type": "code",
      "source": [
        "A=torch.tensor([[1,2,3],[1,2,3]])\n",
        "B=torch.tensor([[4,5,6],[1,1,1]])\n",
        "C=A+B\n",
        "D=A-B\n",
        "print(C)\n",
        "print(D)\n",
        "print()\n",
        "print(A*B) # 곱셈은? 성분끼리의 곱! (Hadamard product) 그래서 2 by 3도 가능하다\n",
        "print(A/B) # 나누기도 마찬가지\n",
        "print(B**2) # 제곱도 각 성분에 대해서 해준다"
      ],
      "metadata": {
        "colab": {
          "base_uri": "https://localhost:8080/"
        },
        "id": "zRGH_ASMfY5q",
        "outputId": "3d8c9641-6f56-4f5f-f03e-52d69019c3a1"
      },
      "execution_count": null,
      "outputs": [
        {
          "output_type": "stream",
          "name": "stdout",
          "text": [
            "tensor([[5, 7, 9],\n",
            "        [2, 3, 4]])\n",
            "tensor([[-3, -3, -3],\n",
            "        [ 0,  1,  2]])\n",
            "\n",
            "tensor([[ 4, 10, 18],\n",
            "        [ 1,  2,  3]])\n",
            "tensor([[0.2500, 0.4000, 0.5000],\n",
            "        [1.0000, 2.0000, 3.0000]])\n",
            "tensor([[16, 25, 36],\n",
            "        [ 1,  1,  1]])\n"
          ]
        }
      ]
    },
    {
      "cell_type": "code",
      "source": [
        "A=torch.tensor([[1,2],[3,4]])\n",
        "B=torch.tensor([[1,2],[3,4]])\n",
        "print(A*B)\n",
        "print(A@B) # 이게 진짜 행렬 곱하기"
      ],
      "metadata": {
        "colab": {
          "base_uri": "https://localhost:8080/"
        },
        "id": "LDMR3HebgeIS",
        "outputId": "f8577411-b243-477a-c64e-72e2a1e37f9b"
      },
      "execution_count": null,
      "outputs": [
        {
          "output_type": "stream",
          "name": "stdout",
          "text": [
            "tensor([[ 1,  4],\n",
            "        [ 9, 16]])\n",
            "tensor([[ 7, 10],\n",
            "        [15, 22]])\n"
          ]
        }
      ]
    },
    {
      "cell_type": "markdown",
      "source": [
        "## pytorch 의 인덱싱 슬라이스"
      ],
      "metadata": {
        "id": "lwIW_G6ThRuW"
      }
    },
    {
      "cell_type": "code",
      "source": [
        "a=torch.tensor([1,2,3,4,5,6,7,8,9])\n",
        "# 인덱싱과 슬라이싱, list할 때와 동일!\n",
        "print(a[0])\n",
        "print(a[1])\n",
        "print(a[-1]) # 맨 마지막\n",
        "print(a[1:4]) # 1번째부터 3번째까지\n",
        "print(a[7:]) # 7번째부터 마지막까지\n",
        "print(a[:7]) # 처음부터 6번째까지\n",
        "print(a[:]) # 전체"
      ],
      "metadata": {
        "colab": {
          "base_uri": "https://localhost:8080/"
        },
        "id": "EvEXUodtlOyq",
        "outputId": "6001036d-97fc-41ef-db8c-4cb5bbb00266"
      },
      "execution_count": null,
      "outputs": [
        {
          "output_type": "stream",
          "name": "stdout",
          "text": [
            "tensor(1)\n",
            "tensor(2)\n",
            "tensor(9)\n",
            "tensor([2, 3, 4])\n",
            "tensor([8, 9])\n",
            "tensor([1, 2, 3, 4, 5, 6, 7])\n",
            "tensor([1, 2, 3, 4, 5, 6, 7, 8, 9])\n"
          ]
        }
      ]
    },
    {
      "cell_type": "code",
      "source": [
        "# 행렬에 대한 인덱싱과 슬라이싱\n",
        "A=torch.tensor([[1,2,3],[4,5,6],[7,8,9]]) # 3 by 3\n",
        "print(A[0]) # 하나만 쓰면 행에 대한 인덱싱 (리스트 속 리스트 생각)\n",
        "print(A[-1])\n",
        "print(A[1:]) # 1번째 행부터 마지막까지\n",
        "print(A[:])\n",
        "print(A[0][2])\n",
        "print(A[0,2]) # 2차원 행렬도 동일한데, 리스트와 달리 이런 것도 됨\n",
        "print(A[1,:]) # 1 행, 전부\n",
        "print(A[1,0:3:2]) # 0부터 3미만번째 2간격 즉 0,2\n",
        "print(A[:,2]) # 전부, 2 열\n",
        "print(A[:][2]) # 이거는 다른 표현\n",
        "print()\n",
        "B=[[1,2,3,4], [5,6,7,8]] # 일반 리스트\n",
        "print(B)\n",
        "print(B[0][2])\n",
        "# print(B[0,2]) # error!"
      ],
      "metadata": {
        "colab": {
          "base_uri": "https://localhost:8080/"
        },
        "id": "4PSLeE0flTMC",
        "outputId": "5897f7e8-8448-4be3-f251-c2e72222d740"
      },
      "execution_count": null,
      "outputs": [
        {
          "output_type": "stream",
          "name": "stdout",
          "text": [
            "tensor([1, 2, 3])\n",
            "tensor([7, 8, 9])\n",
            "tensor([[4, 5, 6],\n",
            "        [7, 8, 9]])\n",
            "tensor([[1, 2, 3],\n",
            "        [4, 5, 6],\n",
            "        [7, 8, 9]])\n",
            "tensor(3)\n",
            "tensor(3)\n",
            "tensor([4, 5, 6])\n",
            "tensor([4, 6])\n",
            "tensor([3, 6, 9])\n",
            "tensor([7, 8, 9])\n",
            "\n",
            "[[1, 2, 3, 4], [5, 6, 7, 8]]\n",
            "3\n"
          ]
        }
      ]
    },
    {
      "cell_type": "code",
      "source": [
        "# 3차원 행렬 인덱싱\n",
        "A=torch.tensor([ [[0,1,2,3],[4,5,6,7],[8,9,10,11]] ,\n",
        "             [[12,13,14,15],[16,17,18,19],[20,21,22,23]] ]) # 3행 4열 짜리 두개 : 3차원\n",
        "print(A)\n",
        "print(A.shape) # 대괄호가 하나 늘어나면 왼쪽에 shape 값이 추가 된다. [2,3,4] 3 by 4 2개\n",
        "print(A[0,1,2]) # [채널, 행, 열]\n",
        "\n",
        "a=torch.tensor([[[1,2,3,4]]])\n",
        "print(a.shape)"
      ],
      "metadata": {
        "colab": {
          "base_uri": "https://localhost:8080/"
        },
        "id": "y6Zg1lZ9ZIBe",
        "outputId": "cd3852a2-afb1-47ef-f75e-64eae39c71f1"
      },
      "execution_count": null,
      "outputs": [
        {
          "output_type": "stream",
          "name": "stdout",
          "text": [
            "tensor([[[ 0,  1,  2,  3],\n",
            "         [ 4,  5,  6,  7],\n",
            "         [ 8,  9, 10, 11]],\n",
            "\n",
            "        [[12, 13, 14, 15],\n",
            "         [16, 17, 18, 19],\n",
            "         [20, 21, 22, 23]]])\n",
            "torch.Size([2, 3, 4])\n",
            "tensor(6)\n",
            "torch.Size([1, 1, 4])\n"
          ]
        }
      ]
    },
    {
      "cell_type": "code",
      "source": [
        "# boolean 인덱싱\n",
        "a=[1,2,3,4,5,3,3]\n",
        "print(a==3) # 여러개 값 들어있는 리스트랑 3 달랑 하나랑 같냐? 다르다!\n",
        "A=torch.tensor([[1,2,3,4],[5,3,7,3]])\n",
        "print(A==3) # 리스트와 달리 각 성분에 대해 비교해줌, 그래서 모든 원소 참 거짓이 출력된다\n",
        "print(A[A==3]) # True, False가 담긴 행렬로 인덱싱 가능!!\n",
        "A[A==3] = 100\n",
        "print(A) # 그러면 이런 것도 가능하다! (3과 같은 애를 100으로 바꿔줘)\n",
        "\n",
        "A=torch.tensor([[1,2],[3,4],[5,6],[7,8]])\n",
        "B=torch.tensor([True, False, False, True]) # 참고로 그냥 리스트여도 됨\n",
        "print(A[B,:]) # 0행, 3행 슬라이싱, true 가 박혀있는 행을 가져온다\n",
        "\n",
        "b=torch.tensor([1,2,3,4])\n",
        "print(b[[True,True,False,False]]) # bool 이 torch tensor가 아니어도 된다\n",
        "c=[1,2,3,4]\n",
        "# c[[True,True,False,False]] # error!"
      ],
      "metadata": {
        "colab": {
          "base_uri": "https://localhost:8080/"
        },
        "id": "DBjH6loolzdS",
        "outputId": "0045d8a4-4527-4c88-dd1a-97d6985706df"
      },
      "execution_count": null,
      "outputs": [
        {
          "output_type": "stream",
          "name": "stdout",
          "text": [
            "False\n",
            "tensor([[False, False,  True, False],\n",
            "        [False,  True, False,  True]])\n",
            "tensor([3, 3, 3])\n",
            "tensor([[  1,   2, 100,   4],\n",
            "        [  5, 100,   7, 100]])\n",
            "tensor([[1, 2],\n",
            "        [7, 8]])\n",
            "tensor([1, 2])\n"
          ]
        }
      ]
    },
    {
      "cell_type": "code",
      "source": [
        "# tensor로 인덱싱\n",
        "a=torch.tensor([1,2,3,4,5])\n",
        "A=a[2]\n",
        "print(A) # tensor(3)\n",
        "A=a[ torch.tensor(2) ] # torch.tensor 안에다가? torch tensor 로 인덱싱\n",
        "print(A)\n",
        "A=a[ torch.tensor([2,3,4]) ]\n",
        "print(A)\n",
        "A=a[ torch.tensor([[2,2,2],[3,3,3]]) ]\n",
        "print(A) # 인덱싱된 애들로 2행 3열짜리 행렬을 만든다\n",
        "\n",
        "a=[1,2,3]\n",
        "# a[ [1,1,1,1,2,2,2] ] # error! 리스트로는 안된다\n",
        "\n",
        "a= torch.tensor([[1,2,3],[4,5,6]])\n",
        "print(a[0])\n",
        "A=a[ torch.tensor([[0,1],[1,1]]) ]\n",
        "print(A.shape) # 예를 들어, a[0] = array([1,2,3])과 같이 1차원 데이터이므로 한 차원이 뒤에 늘어나서 2,2, \"3\" 이 된다!\n",
        "print(A) # segmentation 결과 그림 보여줄 때 사용!\n",
        "print(A.size()) # Shape 랑 size() 는 똑같다"
      ],
      "metadata": {
        "colab": {
          "base_uri": "https://localhost:8080/"
        },
        "id": "FzKn6wIJZAgn",
        "outputId": "5f8a901f-2061-4cd0-82a4-252240a64fea"
      },
      "execution_count": null,
      "outputs": [
        {
          "output_type": "stream",
          "name": "stdout",
          "text": [
            "tensor(3)\n",
            "tensor(3)\n",
            "tensor([3, 4, 5])\n",
            "tensor([[3, 3, 3],\n",
            "        [4, 4, 4]])\n",
            "tensor([1, 2, 3])\n",
            "tensor([2, 5])\n",
            "torch.Size([2, 2, 3])\n",
            "tensor([[[1, 2, 3],\n",
            "         [4, 5, 6]],\n",
            "\n",
            "        [[4, 5, 6],\n",
            "         [4, 5, 6]]])\n",
            "torch.Size([2, 2, 3])\n"
          ]
        }
      ]
    },
    {
      "cell_type": "code",
      "source": [
        "A=torch.tensor([[1,2],[3,4],[5,6],[7,8]])\n",
        "print(A)\n",
        "print(A.shape)\n",
        "\n",
        "# 1. A[몇 번째 행이냐, 몇 번째 열이냐]\n",
        "print(A[0,1])\n",
        "# 2. A[ tensor(bool) ] => A와 같은 shape을 가지는 tensor bool이 어디에 True를 가지고 있냐\n",
        "print(A[ torch.tensor([[False,True],[True,True],[False,False],[False,False]]) ])\n",
        "print()\n",
        "print(A[A==2])\n",
        "print()\n",
        "# 3. A[몇 번째 값에 True가 있냐, 몇 번째 값에 True가 있냐]\n",
        "print(A[ [True,False,False,True], [False,True] ])\n",
        "# 4. A[ tensor ] # 몇 번째 것을 어떻게 쌓을거냐\n",
        "print(A[ torch.tensor([1,1,2,2,2]) ])"
      ],
      "metadata": {
        "colab": {
          "base_uri": "https://localhost:8080/"
        },
        "id": "BBEF3i6xl1sK",
        "outputId": "1870df2d-dc2e-4cee-962c-82b18bb72430"
      },
      "execution_count": null,
      "outputs": [
        {
          "output_type": "stream",
          "name": "stdout",
          "text": [
            "tensor([[1, 2],\n",
            "        [3, 4],\n",
            "        [5, 6],\n",
            "        [7, 8]])\n",
            "torch.Size([4, 2])\n",
            "tensor(2)\n",
            "tensor([2, 3, 4])\n",
            "\n",
            "tensor([2])\n",
            "\n",
            "tensor([2, 8])\n",
            "tensor([[3, 4],\n",
            "        [3, 4],\n",
            "        [5, 6],\n",
            "        [5, 6],\n",
            "        [5, 6]])\n"
          ]
        }
      ]
    },
    {
      "cell_type": "markdown",
      "source": [
        "## pytorch의 여러 함수들"
      ],
      "metadata": {
        "id": "QYBXKfCupHU9"
      }
    },
    {
      "cell_type": "code",
      "source": [
        "A=torch.randn(3,3) # 여긴 튜플로 안줘도 됨 3행 3열짜리 0과 1사이에 평균 0, 분산 1 정규분포에 따라\n",
        "# 곱하면 분산이 바뀌고 더하면 평균이 바뀐다.\n",
        "B=torch.rand(3,3) # 여긴 튜플로 안줘도 됨 3행 3열짜리 0과 1사이에 균등분포(uniform)에 따라\n",
        "print(A)\n",
        "print(B)\n",
        "print(A[A[:,0]<0,:]) # 행이 박힌 다음 모든 열을 출력"
      ],
      "metadata": {
        "colab": {
          "base_uri": "https://localhost:8080/"
        },
        "id": "0lfFqRGOpI-0",
        "outputId": "0dadaf86-9d96-4701-ddbc-0b43873e6226"
      },
      "execution_count": null,
      "outputs": [
        {
          "output_type": "stream",
          "name": "stdout",
          "text": [
            "tensor([[ 0.0181, -2.3493, -0.8805],\n",
            "        [-0.4624,  0.4776, -0.1686],\n",
            "        [-0.0952,  0.9685, -1.1741]])\n",
            "tensor([[0.8667, 0.8274, 0.5715],\n",
            "        [0.0708, 0.9927, 0.2944],\n",
            "        [0.7093, 0.6061, 0.4261]])\n",
            "tensor([[-0.4624,  0.4776, -0.1686],\n",
            "        [-0.0952,  0.9685, -1.1741]])\n"
          ]
        }
      ]
    },
    {
      "cell_type": "code",
      "source": [
        "A=torch.randn(3,3)\n",
        "print(A)\n",
        "print(torch.abs(A))\n",
        "print(torch.sqrt(torch.abs(A)))\n",
        "print(torch.exp(A))\n",
        "print(torch.log(torch.abs(A)))\n",
        "print(torch.log(torch.exp(torch.tensor(1)))) # 기본 torch.log 의 밑은 e이다\n",
        "print(torch.log10(torch.tensor(10))) # 밑을 따로 지정\n",
        "print(torch.log2(torch.tensor(2)))\n",
        "print(torch.round(A)) # 반올림\n",
        "print(torch.round(A,decimals=2)) # 소수점 둘째자리까지\n",
        "print(torch.floor(A)) # 내림\n",
        "print(torch.ceil(A)) # 올림"
      ],
      "metadata": {
        "colab": {
          "base_uri": "https://localhost:8080/"
        },
        "id": "J6KxUXALpniU",
        "outputId": "27fb15d7-5299-4a21-f000-04576b2d796f"
      },
      "execution_count": null,
      "outputs": [
        {
          "output_type": "stream",
          "name": "stdout",
          "text": [
            "tensor([[-0.4435,  1.2068,  0.2651],\n",
            "        [ 1.2006,  0.4480, -1.2392],\n",
            "        [-0.3374,  1.2980,  1.2362]])\n",
            "tensor([[0.4435, 1.2068, 0.2651],\n",
            "        [1.2006, 0.4480, 1.2392],\n",
            "        [0.3374, 1.2980, 1.2362]])\n",
            "tensor([[0.6660, 1.0986, 0.5149],\n",
            "        [1.0957, 0.6693, 1.1132],\n",
            "        [0.5808, 1.1393, 1.1119]])\n",
            "tensor([[0.6418, 3.3429, 1.3036],\n",
            "        [3.3222, 1.5652, 0.2896],\n",
            "        [0.7137, 3.6620, 3.4426]])\n",
            "tensor([[-0.8131,  0.1880, -1.3275],\n",
            "        [ 0.1828, -0.8029,  0.2144],\n",
            "        [-1.0866,  0.2608,  0.2121]])\n",
            "tensor(1.)\n",
            "tensor(1.)\n",
            "tensor(1.)\n",
            "tensor([[-0.,  1.,  0.],\n",
            "        [ 1.,  0., -1.],\n",
            "        [-0.,  1.,  1.]])\n",
            "tensor([[-0.4400,  1.2100,  0.2700],\n",
            "        [ 1.2000,  0.4500, -1.2400],\n",
            "        [-0.3400,  1.3000,  1.2400]])\n",
            "tensor([[-1.,  1.,  0.],\n",
            "        [ 1.,  0., -2.],\n",
            "        [-1.,  1.,  1.]])\n",
            "tensor([[-0.,  2.,  1.],\n",
            "        [ 2.,  1., -1.],\n",
            "        [-0.,  2.,  2.]])\n"
          ]
        }
      ]
    },
    {
      "cell_type": "code",
      "source": [
        "print(torch.sin(torch.tensor(torch.pi/6)))\n",
        "print(torch.cos(torch.tensor(torch.pi/3)))\n",
        "print(torch.tan(torch.tensor(torch.pi/4)))\n",
        "print(torch.tanh(torch.tensor(-10)))"
      ],
      "metadata": {
        "colab": {
          "base_uri": "https://localhost:8080/"
        },
        "id": "PFPjWX54qaXi",
        "outputId": "60290ea6-bc7e-4899-bc88-8e71bf705db0"
      },
      "execution_count": null,
      "outputs": [
        {
          "output_type": "stream",
          "name": "stdout",
          "text": [
            "tensor(0.5000)\n",
            "tensor(0.5000)\n",
            "tensor(1.)\n",
            "tensor(-1.)\n"
          ]
        }
      ]
    },
    {
      "cell_type": "code",
      "source": [
        "torch.nan # not a number\n",
        "print(torch.isnan(torch.tensor([1,2,torch.nan,3,4]))) # nan이 있는지 없는지\n",
        "print(torch.isinf(torch.tensor([1,2,3,4,torch.inf])))"
      ],
      "metadata": {
        "colab": {
          "base_uri": "https://localhost:8080/"
        },
        "id": "huDfIsJoqdDa",
        "outputId": "3e065664-ede8-4e9d-d63f-046579ace707"
      },
      "execution_count": null,
      "outputs": [
        {
          "output_type": "stream",
          "name": "stdout",
          "text": [
            "tensor([False, False,  True, False, False])\n",
            "tensor([False, False, False, False,  True])\n"
          ]
        }
      ]
    },
    {
      "cell_type": "code",
      "source": [
        "A=torch.randn(3,4)\n",
        "print(A)\n",
        "print(torch.max(A)) # 가장 큰 값만 나옴\n",
        "print(torch.max(A,dim=0)) # dim까지 써주면 인덱스까지 리턴, 행끼리 비교\n",
        "print()\n",
        "print(torch.max(A,dim=1)) # 1D array로 바꿔버림, 열끼리 비교\n",
        "print(torch.max(A,dim=0, keepdims=True))\n",
        "print(torch.max(A,dim=1, keepdims=True)) # 3 행 1열 짜리 2D array\n",
        "print(torch.min(A))\n",
        "print(torch.min(A,dim=0))\n",
        "print(torch.min(A,dim=1))\n",
        "print(torch.argmax(A)) # 가장 큰 놈의 인덱스를 뱉어라 ex)0~10\n",
        "print(torch.argmax(A,dim=0)) # 각 열에서 가장 큰 애가 존재하는 인덱스\n",
        "print(torch.argmax(A,dim=1)) # 각 행에서 가장 큰 애가 존재하는 인덱스"
      ],
      "metadata": {
        "colab": {
          "base_uri": "https://localhost:8080/"
        },
        "id": "C9G0Rdhiqn3a",
        "outputId": "a7b6cdfb-6c37-4402-afea-a43845d71774"
      },
      "execution_count": null,
      "outputs": [
        {
          "output_type": "stream",
          "name": "stdout",
          "text": [
            "tensor([[ 1.6149,  0.2171,  1.3518, -0.9073],\n",
            "        [-0.0726,  1.1452, -0.4244,  0.5735],\n",
            "        [-2.1336, -1.1514,  0.2474,  0.1787]])\n",
            "tensor(1.6149)\n",
            "torch.return_types.max(\n",
            "values=tensor([1.6149, 1.1452, 1.3518, 0.5735]),\n",
            "indices=tensor([0, 1, 0, 1]))\n",
            "\n",
            "torch.return_types.max(\n",
            "values=tensor([1.6149, 1.1452, 0.2474]),\n",
            "indices=tensor([0, 1, 2]))\n",
            "torch.return_types.max(\n",
            "values=tensor([[1.6149, 1.1452, 1.3518, 0.5735]]),\n",
            "indices=tensor([[0, 1, 0, 1]]))\n",
            "torch.return_types.max(\n",
            "values=tensor([[1.6149],\n",
            "        [1.1452],\n",
            "        [0.2474]]),\n",
            "indices=tensor([[0],\n",
            "        [1],\n",
            "        [2]]))\n",
            "tensor(-2.1336)\n",
            "torch.return_types.min(\n",
            "values=tensor([-2.1336, -1.1514, -0.4244, -0.9073]),\n",
            "indices=tensor([2, 2, 1, 0]))\n",
            "torch.return_types.min(\n",
            "values=tensor([-0.9073, -0.4244, -2.1336]),\n",
            "indices=tensor([3, 2, 0]))\n",
            "tensor(0)\n",
            "tensor([0, 1, 0, 1])\n",
            "tensor([0, 1, 2])\n"
          ]
        }
      ]
    },
    {
      "cell_type": "code",
      "source": [
        "a=torch.randn(6,1)\n",
        "print(a)\n",
        "a_sorted=torch.sort(a,dim=0) # 기본 오름차순\n",
        "print(a_sorted)\n",
        "a_sorted=torch.sort(a,dim=0,descending=True) # 내림차순\n",
        "print(a_sorted)\n",
        "print(a.sort(dim=0))\n",
        "print(a.max())\n",
        "print(torch.argmax(a))"
      ],
      "metadata": {
        "colab": {
          "base_uri": "https://localhost:8080/"
        },
        "id": "5h8JeQ8bqsrv",
        "outputId": "ac8c2d45-b900-46a5-ebd9-639d99254d7e"
      },
      "execution_count": null,
      "outputs": [
        {
          "output_type": "stream",
          "name": "stdout",
          "text": [
            "tensor([[ 1.6213],\n",
            "        [ 0.4827],\n",
            "        [-1.0798],\n",
            "        [ 0.9387],\n",
            "        [ 0.3514],\n",
            "        [-0.7336]])\n",
            "torch.return_types.sort(\n",
            "values=tensor([[-1.0798],\n",
            "        [-0.7336],\n",
            "        [ 0.3514],\n",
            "        [ 0.4827],\n",
            "        [ 0.9387],\n",
            "        [ 1.6213]]),\n",
            "indices=tensor([[2],\n",
            "        [5],\n",
            "        [4],\n",
            "        [1],\n",
            "        [3],\n",
            "        [0]]))\n",
            "torch.return_types.sort(\n",
            "values=tensor([[ 1.6213],\n",
            "        [ 0.9387],\n",
            "        [ 0.4827],\n",
            "        [ 0.3514],\n",
            "        [-0.7336],\n",
            "        [-1.0798]]),\n",
            "indices=tensor([[0],\n",
            "        [3],\n",
            "        [1],\n",
            "        [4],\n",
            "        [5],\n",
            "        [2]]))\n",
            "torch.return_types.sort(\n",
            "values=tensor([[-1.0798],\n",
            "        [-0.7336],\n",
            "        [ 0.3514],\n",
            "        [ 0.4827],\n",
            "        [ 0.9387],\n",
            "        [ 1.6213]]),\n",
            "indices=tensor([[2],\n",
            "        [5],\n",
            "        [4],\n",
            "        [1],\n",
            "        [3],\n",
            "        [0]]))\n",
            "tensor(1.6213)\n",
            "tensor(0)\n"
          ]
        }
      ]
    },
    {
      "cell_type": "code",
      "source": [
        "A=torch.randn(3,4)\n",
        "print(A)\n",
        "print(torch.sum(A))\n",
        "print(torch.sum(A,dim=0))\n",
        "print(torch.sum(A,dim=1))\n",
        "print(torch.sum(A,dim=0,keepdims=True)) # dimesion을 유지해달라\n",
        "print(torch.sum(A,dim=1,keepdims=True)) # dimesion을 유지해달라 shape이 맞춰진다\n",
        "print(torch.mean(A))\n",
        "print(torch.mean(A,dim=1))\n",
        "print(torch.mean(A,dim=1,keepdims=True))\n",
        "print(torch.std(A)) # standard deviation 표준 편차\n",
        "\n",
        "print(A.sum(dim=1, keepdims=True))\n",
        "print(A.mean(dim=1, keepdims=True))\n",
        "print(A.std())"
      ],
      "metadata": {
        "colab": {
          "base_uri": "https://localhost:8080/"
        },
        "id": "KJUEZtB4rglS",
        "outputId": "a270cc3b-0438-44c4-8ec8-0fc1743390ed"
      },
      "execution_count": null,
      "outputs": [
        {
          "output_type": "stream",
          "name": "stdout",
          "text": [
            "tensor([[ 0.6258,  0.1942,  0.9174, -0.4516],\n",
            "        [-0.7273,  0.5736, -0.9398,  1.0399],\n",
            "        [-0.0180, -0.3654,  0.1104, -0.4740]])\n",
            "tensor(0.4852)\n",
            "tensor([-0.1195,  0.4025,  0.0880,  0.1142])\n",
            "tensor([ 1.2858, -0.0536, -0.7469])\n",
            "tensor([[-0.1195,  0.4025,  0.0880,  0.1142]])\n",
            "tensor([[ 1.2858],\n",
            "        [-0.0536],\n",
            "        [-0.7469]])\n",
            "tensor(0.0404)\n",
            "tensor([ 0.3214, -0.0134, -0.1867])\n",
            "tensor([[ 0.3214],\n",
            "        [-0.0134],\n",
            "        [-0.1867]])\n",
            "tensor(0.6501)\n",
            "tensor([[ 1.2858],\n",
            "        [-0.0536],\n",
            "        [-0.7469]])\n",
            "tensor([[ 0.3214],\n",
            "        [-0.0134],\n",
            "        [-0.1867]])\n",
            "tensor(0.6501)\n"
          ]
        }
      ]
    },
    {
      "cell_type": "code",
      "source": [
        "A=torch.randint(1,5,size=(12,)) # 1부터 5미만 12개 정수 (1 차원은 (N,) 과 같이 표현)\n",
        "print(A)\n",
        "print(A.shape)\n",
        "\n",
        "B=A.reshape(2,2,3) # 중요\n",
        "print(B)\n",
        "print(B.ndim) # 3 차원 행렬이다"
      ],
      "metadata": {
        "colab": {
          "base_uri": "https://localhost:8080/"
        },
        "id": "CmuensVlsERE",
        "outputId": "1b37a0d5-deae-4d30-84db-09ec179b95c2"
      },
      "execution_count": null,
      "outputs": [
        {
          "output_type": "stream",
          "name": "stdout",
          "text": [
            "tensor([3, 2, 4, 2, 4, 3, 3, 1, 1, 1, 2, 3])\n",
            "torch.Size([12])\n",
            "tensor([[[3, 2, 4],\n",
            "         [2, 4, 3]],\n",
            "\n",
            "        [[3, 1, 1],\n",
            "         [1, 2, 3]]])\n",
            "3\n"
          ]
        }
      ]
    },
    {
      "cell_type": "code",
      "source": [
        "a=torch.tensor([1,2,3])\n",
        "b=torch.tensor([2,2,1])\n",
        "print(torch.sum(a*b))\n",
        "\n",
        "a=a.reshape(3,1)\n",
        "b=b.reshape(3,1)\n",
        "print(a.transpose(1,0)@b)\n",
        "print(a.permute(1,0)@b)\n",
        "print(a.T@b)\n",
        "print(a.t()@b)\n",
        "\n",
        "A=torch.randn(4,3,6)\n",
        "print(A.permute(0,2,1).shape)"
      ],
      "metadata": {
        "colab": {
          "base_uri": "https://localhost:8080/"
        },
        "id": "VdXu_OZ1sgNK",
        "outputId": "d8fcb7c2-3d22-4d22-de36-c01d0c28f7f7"
      },
      "execution_count": null,
      "outputs": [
        {
          "output_type": "stream",
          "name": "stdout",
          "text": [
            "tensor(9)\n",
            "tensor([[9]])\n",
            "tensor([[9]])\n",
            "tensor([[9]])\n",
            "tensor([[9]])\n",
            "torch.Size([4, 6, 3])\n"
          ]
        }
      ]
    },
    {
      "cell_type": "code",
      "source": [
        "A=torch.arange(20)\n",
        "print(A)\n",
        "print(A.reshape(4,5))\n",
        "print(A.reshape(4,-1).shape) # 4개 행이 될 수 있도록 알아서 열의 수를 맞춰라\n",
        "print(A.reshape(2,5,-1).shape)\n",
        "print(A.reshape(2,-1,5).shape)\n",
        "print(A.reshape(1,-1).shape) # 2차원 행 벡터\n",
        "print(A.reshape(-1,1).shape) # 2차원 열 벡터"
      ],
      "metadata": {
        "colab": {
          "base_uri": "https://localhost:8080/"
        },
        "id": "aYsTsVD7sjmj",
        "outputId": "654d45b6-28c1-4036-e69d-f4b4d5d68245"
      },
      "execution_count": null,
      "outputs": [
        {
          "output_type": "stream",
          "name": "stdout",
          "text": [
            "tensor([ 0,  1,  2,  3,  4,  5,  6,  7,  8,  9, 10, 11, 12, 13, 14, 15, 16, 17,\n",
            "        18, 19])\n",
            "tensor([[ 0,  1,  2,  3,  4],\n",
            "        [ 5,  6,  7,  8,  9],\n",
            "        [10, 11, 12, 13, 14],\n",
            "        [15, 16, 17, 18, 19]])\n",
            "torch.Size([4, 5])\n",
            "torch.Size([2, 5, 2])\n",
            "torch.Size([2, 2, 5])\n",
            "torch.Size([1, 20])\n",
            "torch.Size([20, 1])\n"
          ]
        }
      ]
    },
    {
      "cell_type": "code",
      "source": [
        "x=torch.randn(2,3,4,5,6)\n",
        "print(x[1,2,:,:,:].shape)\n",
        "print(x[1,2,...].shape) # x[1, 2, …] 는 x[1, 2, :, :, :] 와 같습니다.\n",
        "print(x[:,:,:,:,3].shape)\n",
        "print(x[...,3].shape) # x[…, 3] 는 x[:, :, :, :, 3] 와 같습니다.\n",
        "print(x[1,:,:,3,:].shape)\n",
        "print(x[1,...,3,:].shape) # x[1, …, 3, :] 는 x[1, :, :, 3, :] 와 같습니다."
      ],
      "metadata": {
        "colab": {
          "base_uri": "https://localhost:8080/"
        },
        "id": "VFBBHxp2zFyr",
        "outputId": "9927368c-f0e6-4c84-8317-5a40208332c1"
      },
      "execution_count": null,
      "outputs": [
        {
          "output_type": "stream",
          "name": "stdout",
          "text": [
            "torch.Size([4, 5, 6])\n",
            "torch.Size([4, 5, 6])\n",
            "torch.Size([2, 3, 4, 5])\n",
            "torch.Size([2, 3, 4, 5])\n",
            "torch.Size([3, 4, 6])\n",
            "torch.Size([3, 4, 6])\n"
          ]
        }
      ]
    },
    {
      "cell_type": "code",
      "source": [
        "A=torch.ones((2,3,4))\n",
        "B=torch.zeros((2,3,4))\n",
        "\n",
        "C=torch.vstack([A,B]) # dim=0에 대해서 쌓는다\n",
        "D=torch.hstack([A,B]) # dim=1에 대해서 쌓는다\n",
        "\n",
        "E=torch.cat([A,B], dim=0)\n",
        "F=torch.cat([A,B], dim=1)\n",
        "G=torch.cat([A,B], dim=2)\n",
        "\n",
        "print(C.shape)\n",
        "print(D.shape)\n",
        "print(E.shape)\n",
        "print(F.shape)\n",
        "print(G.shape)"
      ],
      "metadata": {
        "colab": {
          "base_uri": "https://localhost:8080/"
        },
        "id": "VsBKRAiJzbBz",
        "outputId": "5f43034e-9981-40ba-b8c6-aed481ba6e12"
      },
      "execution_count": null,
      "outputs": [
        {
          "output_type": "stream",
          "name": "stdout",
          "text": [
            "torch.Size([4, 3, 4])\n",
            "torch.Size([2, 6, 4])\n",
            "torch.Size([4, 3, 4])\n",
            "torch.Size([2, 6, 4])\n",
            "torch.Size([2, 3, 8])\n"
          ]
        }
      ]
    },
    {
      "cell_type": "code",
      "source": [
        "A = torch.randn(1,1,1,3,1,1,4,1)\n",
        "# print(A)\n",
        "print(A.shape)\n",
        "print(A.squeeze().shape) # 쥐어짜서 1짜리를 없앤다"
      ],
      "metadata": {
        "colab": {
          "base_uri": "https://localhost:8080/"
        },
        "id": "EOsKnQTvzeAL",
        "outputId": "0a2d3453-dbec-4c94-b1f8-90893c28ebb4"
      },
      "execution_count": null,
      "outputs": [
        {
          "output_type": "stream",
          "name": "stdout",
          "text": [
            "torch.Size([1, 1, 1, 3, 1, 1, 4, 1])\n",
            "torch.Size([3, 4])\n"
          ]
        }
      ]
    },
    {
      "cell_type": "code",
      "source": [
        "A=torch.randn(3,4)\n",
        "print(A.unsqueeze(dim=0).shape) # 차원을 하나 늘린다\n",
        "print(A.unsqueeze(dim=1).shape)\n",
        "print(A.unsqueeze(dim=2).shape)\n",
        "print(A.reshape(1,3,4).shape)\n",
        "print(A.reshape(3,1,4).shape)\n",
        "print(A.reshape(3,4,1).shape)"
      ],
      "metadata": {
        "colab": {
          "base_uri": "https://localhost:8080/"
        },
        "id": "fgFgG48p02YK",
        "outputId": "dbe1e3e2-a933-4ef7-d2ee-a3007f95ac36"
      },
      "execution_count": null,
      "outputs": [
        {
          "output_type": "stream",
          "name": "stdout",
          "text": [
            "torch.Size([1, 3, 4])\n",
            "torch.Size([3, 1, 4])\n",
            "torch.Size([3, 4, 1])\n",
            "torch.Size([1, 3, 4])\n",
            "torch.Size([3, 1, 4])\n",
            "torch.Size([3, 4, 1])\n"
          ]
        }
      ]
    },
    {
      "cell_type": "code",
      "source": [
        "A=torch.ones(3,4)\n",
        "B=torch.zeros(3,4)\n",
        "print(A)\n",
        "print(B)\n",
        "A=A.unsqueeze(dim=0)\n",
        "B=B.unsqueeze(dim=0)\n",
        "C=torch.cat([A,B],dim=0)\n",
        "print(C)\n",
        "print(C.shape)"
      ],
      "metadata": {
        "colab": {
          "base_uri": "https://localhost:8080/"
        },
        "id": "pugSVrBkzsRy",
        "outputId": "b3f4eac9-33cb-42d5-a7f1-501be8b697c9"
      },
      "execution_count": null,
      "outputs": [
        {
          "output_type": "stream",
          "name": "stdout",
          "text": [
            "tensor([[1., 1., 1., 1.],\n",
            "        [1., 1., 1., 1.],\n",
            "        [1., 1., 1., 1.]])\n",
            "tensor([[0., 0., 0., 0.],\n",
            "        [0., 0., 0., 0.],\n",
            "        [0., 0., 0., 0.]])\n",
            "tensor([[[1., 1., 1., 1.],\n",
            "         [1., 1., 1., 1.],\n",
            "         [1., 1., 1., 1.]],\n",
            "\n",
            "        [[0., 0., 0., 0.],\n",
            "         [0., 0., 0., 0.],\n",
            "         [0., 0., 0., 0.]]])\n",
            "torch.Size([2, 3, 4])\n"
          ]
        }
      ]
    },
    {
      "cell_type": "code",
      "source": [
        "A=torch.tensor([[1,2],[3,4]])\n",
        "B=A.clone() # 그냥 B=A 하면 주소가 복사된다\n",
        "B[0,0]=100\n",
        "\n",
        "print(B)\n",
        "print(A)"
      ],
      "metadata": {
        "colab": {
          "base_uri": "https://localhost:8080/"
        },
        "id": "w2HrXVkC0NjZ",
        "outputId": "5981e3ee-d7d9-4107-ba5e-be2e46e4e096"
      },
      "execution_count": null,
      "outputs": [
        {
          "output_type": "stream",
          "name": "stdout",
          "text": [
            "tensor([[100,   2],\n",
            "        [  3,   4]])\n",
            "tensor([[1, 2],\n",
            "        [3, 4]])\n"
          ]
        }
      ]
    },
    {
      "cell_type": "markdown",
      "source": [
        "## @에 대해 좀만 더"
      ],
      "metadata": {
        "id": "CO1ncE2CHRb3"
      }
    },
    {
      "cell_type": "code",
      "source": [
        "A=torch.randn(5,7)\n",
        "B=torch.randn(7,10)\n",
        "C=A@B\n",
        "print(C.shape)\n",
        "\n",
        "A=torch.randn(2,5,7)\n",
        "B=torch.randn(2,7,10)\n",
        "print(A)\n",
        "C=A@B # 각 채널마다 @를 해준다\n",
        "print(C.shape)"
      ],
      "metadata": {
        "colab": {
          "base_uri": "https://localhost:8080/"
        },
        "id": "UyGWoMGfHQpm",
        "outputId": "69ce92cd-3083-4e66-fe84-70d49735a9e8"
      },
      "execution_count": null,
      "outputs": [
        {
          "output_type": "stream",
          "name": "stdout",
          "text": [
            "torch.Size([5, 10])\n",
            "tensor([[[-0.7518,  0.5047, -0.1020,  0.0045, -1.2390,  1.3899,  1.6357],\n",
            "         [ 0.2343,  0.8421, -0.9901, -1.9960, -0.8630, -0.6574, -0.1079],\n",
            "         [-0.0967, -0.8017, -0.3519, -0.6173,  0.5278, -0.4781, -0.1199],\n",
            "         [-0.9246,  0.6886,  0.6524, -1.6352,  0.0969, -0.1335,  0.7034],\n",
            "         [-0.0703, -0.5112,  0.8456, -1.0155,  0.9363,  0.5096,  0.4841]],\n",
            "\n",
            "        [[-0.8686, -0.1083, -0.1006,  0.0981, -0.2117, -0.1409, -1.2470],\n",
            "         [-0.6445,  1.0192,  0.2492,  1.6243, -2.4515, -0.1021, -0.1693],\n",
            "         [-1.3178,  1.0743, -0.7098, -0.0267, -1.8008,  0.3348,  0.5636],\n",
            "         [ 0.3702,  0.1443,  0.0184, -0.5773, -0.8589,  0.1146, -0.8551],\n",
            "         [-0.0084, -0.0694, -0.3941, -0.4406, -0.9077,  0.4383, -0.7469]]])\n",
            "torch.Size([2, 5, 10])\n"
          ]
        }
      ]
    },
    {
      "cell_type": "code",
      "source": [
        "A=torch.randn(32,5,7)\n",
        "B=torch.randn(7,10)\n",
        "\n",
        "C=A@B.repeat(32,1,1) # 1by 7by 10 을 32번 repeat 해준다.\n",
        "print(C.shape)\n",
        "D=A@B\n",
        "print(D.shape)\n",
        "print((C-D).abs().max())"
      ],
      "metadata": {
        "colab": {
          "base_uri": "https://localhost:8080/"
        },
        "id": "gWKSvRLSH-Ik",
        "outputId": "7574196c-436c-4ebe-f31f-a87a39f9db9f"
      },
      "execution_count": null,
      "outputs": [
        {
          "output_type": "stream",
          "name": "stdout",
          "text": [
            "torch.Size([32, 5, 10])\n",
            "torch.Size([32, 5, 10])\n",
            "tensor(9.5367e-07)\n"
          ]
        }
      ]
    },
    {
      "cell_type": "code",
      "source": [
        "A= torch.rand(2,3)\n",
        "A_repeat= A.repeat(3,1,3,2)\n",
        "print(A.shape)\n",
        "print(A)\n",
        "print(A_repeat.shape)\n",
        "print(A_repeat)\n"
      ],
      "metadata": {
        "colab": {
          "base_uri": "https://localhost:8080/"
        },
        "id": "yKRtdHCIISZz",
        "outputId": "7d0b1617-8641-4dfd-e274-201f306d517b"
      },
      "execution_count": null,
      "outputs": [
        {
          "output_type": "stream",
          "name": "stdout",
          "text": [
            "torch.Size([2, 3])\n",
            "tensor([[0.4742, 0.8472, 0.8999],\n",
            "        [0.9625, 0.5068, 0.1267]])\n",
            "torch.Size([3, 1, 6, 6])\n",
            "tensor([[[[0.4742, 0.8472, 0.8999, 0.4742, 0.8472, 0.8999],\n",
            "          [0.9625, 0.5068, 0.1267, 0.9625, 0.5068, 0.1267],\n",
            "          [0.4742, 0.8472, 0.8999, 0.4742, 0.8472, 0.8999],\n",
            "          [0.9625, 0.5068, 0.1267, 0.9625, 0.5068, 0.1267],\n",
            "          [0.4742, 0.8472, 0.8999, 0.4742, 0.8472, 0.8999],\n",
            "          [0.9625, 0.5068, 0.1267, 0.9625, 0.5068, 0.1267]]],\n",
            "\n",
            "\n",
            "        [[[0.4742, 0.8472, 0.8999, 0.4742, 0.8472, 0.8999],\n",
            "          [0.9625, 0.5068, 0.1267, 0.9625, 0.5068, 0.1267],\n",
            "          [0.4742, 0.8472, 0.8999, 0.4742, 0.8472, 0.8999],\n",
            "          [0.9625, 0.5068, 0.1267, 0.9625, 0.5068, 0.1267],\n",
            "          [0.4742, 0.8472, 0.8999, 0.4742, 0.8472, 0.8999],\n",
            "          [0.9625, 0.5068, 0.1267, 0.9625, 0.5068, 0.1267]]],\n",
            "\n",
            "\n",
            "        [[[0.4742, 0.8472, 0.8999, 0.4742, 0.8472, 0.8999],\n",
            "          [0.9625, 0.5068, 0.1267, 0.9625, 0.5068, 0.1267],\n",
            "          [0.4742, 0.8472, 0.8999, 0.4742, 0.8472, 0.8999],\n",
            "          [0.9625, 0.5068, 0.1267, 0.9625, 0.5068, 0.1267],\n",
            "          [0.4742, 0.8472, 0.8999, 0.4742, 0.8472, 0.8999],\n",
            "          [0.9625, 0.5068, 0.1267, 0.9625, 0.5068, 0.1267]]]])\n"
          ]
        }
      ]
    },
    {
      "cell_type": "markdown",
      "source": [
        "## numpy <-> torch 왔다갔다 가능"
      ],
      "metadata": {
        "id": "yBRTb-IrJLDr"
      }
    },
    {
      "cell_type": "code",
      "source": [
        "import numpy as np"
      ],
      "metadata": {
        "id": "LJ9y7N8KJOEs"
      },
      "execution_count": null,
      "outputs": []
    },
    {
      "cell_type": "code",
      "source": [
        "a=np.array([1,2,3])\n",
        "b=torch.tensor([1,2,3])\n",
        "A=torch.tensor(a)\n",
        "print(type(A))\n",
        "A=torch.from_numpy(a)\n",
        "print(type(A))\n",
        "B=b.numpy()\n",
        "print(type(B))"
      ],
      "metadata": {
        "colab": {
          "base_uri": "https://localhost:8080/"
        },
        "id": "tlpdjq1cJQKB",
        "outputId": "7469c5f5-52b3-4b2c-fd59-f81775d9127f"
      },
      "execution_count": null,
      "outputs": [
        {
          "output_type": "stream",
          "name": "stdout",
          "text": [
            "<class 'torch.Tensor'>\n",
            "<class 'torch.Tensor'>\n",
            "<class 'numpy.ndarray'>\n"
          ]
        }
      ]
    },
    {
      "cell_type": "markdown",
      "source": [
        "## 딥러닝을 가능케한 autograd"
      ],
      "metadata": {
        "id": "QPt-PzqkJqiw"
      }
    },
    {
      "cell_type": "code",
      "source": [
        "x=torch.tensor([1.],requires_grad=True) # 정수로는 미분 안되고 실수로 해야된다\n",
        "print(x)"
      ],
      "metadata": {
        "colab": {
          "base_uri": "https://localhost:8080/"
        },
        "id": "87AuCJGuJo_k",
        "outputId": "602b6f3a-5c83-4579-d63f-50aa9b3cc2bb"
      },
      "execution_count": null,
      "outputs": [
        {
          "output_type": "stream",
          "name": "stdout",
          "text": [
            "tensor([1.], requires_grad=True)\n"
          ]
        }
      ]
    },
    {
      "cell_type": "code",
      "source": [
        "x=torch.tensor([1.],requires_grad=True) # 정수로는 미분 안되고 실수로 해야된다\n",
        "y=x**2\n",
        "print(y) # PowBackward0 가 붙어있다!\n",
        "print(x.grad) # 미분 전\n",
        "y.backward() # 미분한거\n",
        "print(x.grad) # y=x**2을 미분한 2x 의 x 값에 1을 대입한 gradient 값"
      ],
      "metadata": {
        "colab": {
          "base_uri": "https://localhost:8080/"
        },
        "id": "UnZXleSkKE9h",
        "outputId": "cb884318-4268-4282-e112-c71b9f58593f"
      },
      "execution_count": null,
      "outputs": [
        {
          "output_type": "stream",
          "name": "stdout",
          "text": [
            "tensor([1.], grad_fn=<PowBackward0>)\n",
            "None\n",
            "tensor([2.])\n"
          ]
        }
      ]
    },
    {
      "cell_type": "code",
      "source": [
        "x=torch.tensor([1.],requires_grad=True)\n",
        "y=x**2\n",
        "print(y)\n",
        "\n",
        "y.retain_grad()\n",
        "\n",
        "z=3*y\n",
        "print(z) # MulBackward0가 붙어있다!\n",
        "\n",
        "z.backward() # requires_grad 가 x 에서 True 이기 때문에 dz/dx를 구한다\n",
        "print(x.grad)\n",
        "# print(y.grad) # leaf tensor 가 아님 해결 방법은 5번째 줄에 써놓음\n",
        "print(y.grad)"
      ],
      "metadata": {
        "colab": {
          "base_uri": "https://localhost:8080/"
        },
        "id": "eEkbgxt0LSZV",
        "outputId": "e2274203-1a14-44f0-a01c-ccb13134dc29"
      },
      "execution_count": null,
      "outputs": [
        {
          "output_type": "stream",
          "name": "stdout",
          "text": [
            "tensor([1.], grad_fn=<PowBackward0>)\n",
            "tensor([3.], grad_fn=<MulBackward0>)\n",
            "tensor([6.])\n",
            "tensor([3.])\n"
          ]
        }
      ]
    },
    {
      "cell_type": "code",
      "source": [
        "x=torch.tensor([1.],requires_grad=True)\n",
        "y=x**2\n",
        "y.backward()\n",
        "print(x.grad)"
      ],
      "metadata": {
        "colab": {
          "base_uri": "https://localhost:8080/"
        },
        "id": "_iU0CCqaMwuj",
        "outputId": "ab6d6bed-5272-4069-d712-534f6af6db8d"
      },
      "execution_count": null,
      "outputs": [
        {
          "output_type": "stream",
          "name": "stdout",
          "text": [
            "tensor([2.])\n"
          ]
        }
      ]
    },
    {
      "cell_type": "code",
      "source": [
        "x=torch.tensor([1.],requires_grad=True)\n",
        "a=x**2 # 제곱했으니까 PowBackward0\n",
        "b=a+1 # 더했으니까 AddBackward0\n",
        "print(b)\n",
        "c=3*x**2+1 # 가장 마지막 것만 보여준다 AddBackward0\n",
        "print(c)\n",
        "c=b**2\n",
        "c.backward()\n",
        "print(x.grad)"
      ],
      "metadata": {
        "colab": {
          "base_uri": "https://localhost:8080/"
        },
        "id": "75d9H7M0M3Oy",
        "outputId": "3cc5891e-2bd7-41f0-fefc-205c9f9a8208"
      },
      "execution_count": null,
      "outputs": [
        {
          "output_type": "stream",
          "name": "stdout",
          "text": [
            "tensor([2.], grad_fn=<AddBackward0>)\n",
            "tensor([4.], grad_fn=<AddBackward0>)\n",
            "tensor([8.])\n"
          ]
        }
      ]
    },
    {
      "cell_type": "code",
      "source": [
        "x=torch.tensor([1.],requires_grad=True) # backward는 편미분이 기본이다\n",
        "y=torch.tensor([1.],requires_grad=True)\n",
        "\n",
        "a=2*x**2+y**2 # 제곱했으니까 PowBackward0\n",
        "print(a)\n",
        "a.backward()\n",
        "print(x.grad)\n",
        "print(y.grad)"
      ],
      "metadata": {
        "colab": {
          "base_uri": "https://localhost:8080/"
        },
        "id": "d6rGoMsWN-Oe",
        "outputId": "8435f919-bc22-4a3f-d4a7-6892a2731499"
      },
      "execution_count": null,
      "outputs": [
        {
          "output_type": "stream",
          "name": "stdout",
          "text": [
            "tensor([3.], grad_fn=<AddBackward0>)\n",
            "tensor([4.])\n",
            "tensor([2.])\n"
          ]
        }
      ]
    },
    {
      "cell_type": "code",
      "source": [
        "x=torch.tensor([1.],requires_grad=True) # backward는 편미분이 기본이다\n",
        "y=torch.tensor([1.],requires_grad=True)\n",
        "\n",
        "a=x**2*y # 제곱했으니까 PowBackward0\n",
        "print(a)\n",
        "a.backward()\n",
        "print(x.grad)\n",
        "print(y.grad)"
      ],
      "metadata": {
        "colab": {
          "base_uri": "https://localhost:8080/"
        },
        "id": "g7kE6dBGOlIH",
        "outputId": "6cfcd55f-d315-4900-9cba-efcfa74f9e1b"
      },
      "execution_count": null,
      "outputs": [
        {
          "output_type": "stream",
          "name": "stdout",
          "text": [
            "tensor([1.], grad_fn=<MulBackward0>)\n",
            "tensor([2.])\n",
            "tensor([1.])\n"
          ]
        }
      ]
    },
    {
      "cell_type": "code",
      "source": [
        "x=torch.tensor([1.,2.,3.],requires_grad=True)\n",
        "y=torch.tensor([4.,5.,6.],requires_grad=True)\n",
        "\n",
        "z=torch.sum(x**2 + y)\n",
        "print(z)\n",
        "z.backward()\n",
        "print(x.grad) # 스칼라를 벡터로 미분\n",
        "print(y.grad)"
      ],
      "metadata": {
        "colab": {
          "base_uri": "https://localhost:8080/"
        },
        "id": "zFtr6I0qOsUK",
        "outputId": "1c3d3cd9-4590-4e78-ac5f-1b385bc05bd1"
      },
      "execution_count": null,
      "outputs": [
        {
          "output_type": "stream",
          "name": "stdout",
          "text": [
            "tensor(29., grad_fn=<SumBackward0>)\n",
            "tensor([2., 4., 6.])\n",
            "tensor([1., 1., 1.])\n"
          ]
        }
      ]
    },
    {
      "cell_type": "code",
      "source": [
        "x=torch.tensor([1.,2.,3.],requires_grad=True)\n",
        "x.requires_grad=False\n",
        "\n",
        "y=x**2\n",
        "print(y)\n",
        "# y.backward() # error!"
      ],
      "metadata": {
        "colab": {
          "base_uri": "https://localhost:8080/"
        },
        "id": "4Nw1ISfFPGuu",
        "outputId": "a06b87f8-d94c-4ddc-d5bc-4a5e69e58e31"
      },
      "execution_count": null,
      "outputs": [
        {
          "output_type": "stream",
          "name": "stdout",
          "text": [
            "tensor([1., 4., 9.])\n"
          ]
        }
      ]
    },
    {
      "cell_type": "code",
      "source": [
        "x=torch.tensor([2.],requires_grad=True)\n",
        "x=x.detach()\n",
        "print(x)\n",
        "y=x**2\n",
        "print(y)"
      ],
      "metadata": {
        "colab": {
          "base_uri": "https://localhost:8080/"
        },
        "id": "iDzsc1koQOIu",
        "outputId": "4e0eb42e-2d06-44e1-98cc-a2a81c3c1406"
      },
      "execution_count": null,
      "outputs": [
        {
          "output_type": "stream",
          "name": "stdout",
          "text": [
            "tensor([2.])\n",
            "tensor([4.])\n"
          ]
        }
      ]
    },
    {
      "cell_type": "code",
      "source": [
        "x=torch.tensor([1.],requires_grad=True)\n",
        "with torch.no_grad(): # 이 안에서만 gradient 연산을 하지 말자\n",
        "#훈련할 때는 미분이 필요하지만 테스트할 때는 안 필요하기 때문에 메모리 절약 가능\n",
        "  y=x**2\n",
        "  print(x.requires_grad)\n",
        "  print(y)\n",
        "print(x.requires_grad)\n",
        "# y.backward() # error!\n",
        "y=x**2\n",
        "print(y)"
      ],
      "metadata": {
        "colab": {
          "base_uri": "https://localhost:8080/"
        },
        "id": "fDhMHLq8QSo_",
        "outputId": "0350a1a7-a7af-491c-acf0-9149b914c6af"
      },
      "execution_count": null,
      "outputs": [
        {
          "output_type": "stream",
          "name": "stdout",
          "text": [
            "True\n",
            "tensor([1.])\n",
            "True\n",
            "tensor([1.], grad_fn=<PowBackward0>)\n"
          ]
        }
      ]
    },
    {
      "cell_type": "code",
      "source": [
        "!pip install torchviz"
      ],
      "metadata": {
        "colab": {
          "base_uri": "https://localhost:8080/"
        },
        "id": "mfaxwLzkRAfb",
        "outputId": "42e5ad73-5d41-43dc-ac35-56a367495a2e"
      },
      "execution_count": null,
      "outputs": [
        {
          "output_type": "stream",
          "name": "stdout",
          "text": [
            "Collecting torchviz\n",
            "  Downloading torchviz-0.0.2.tar.gz (4.9 kB)\n",
            "  Preparing metadata (setup.py) ... \u001b[?25l\u001b[?25hdone\n",
            "Requirement already satisfied: torch in /usr/local/lib/python3.10/dist-packages (from torchviz) (2.1.0+cu121)\n",
            "Requirement already satisfied: graphviz in /usr/local/lib/python3.10/dist-packages (from torchviz) (0.20.1)\n",
            "Requirement already satisfied: filelock in /usr/local/lib/python3.10/dist-packages (from torch->torchviz) (3.13.1)\n",
            "Requirement already satisfied: typing-extensions in /usr/local/lib/python3.10/dist-packages (from torch->torchviz) (4.9.0)\n",
            "Requirement already satisfied: sympy in /usr/local/lib/python3.10/dist-packages (from torch->torchviz) (1.12)\n",
            "Requirement already satisfied: networkx in /usr/local/lib/python3.10/dist-packages (from torch->torchviz) (3.2.1)\n",
            "Requirement already satisfied: jinja2 in /usr/local/lib/python3.10/dist-packages (from torch->torchviz) (3.1.3)\n",
            "Requirement already satisfied: fsspec in /usr/local/lib/python3.10/dist-packages (from torch->torchviz) (2023.6.0)\n",
            "Requirement already satisfied: triton==2.1.0 in /usr/local/lib/python3.10/dist-packages (from torch->torchviz) (2.1.0)\n",
            "Requirement already satisfied: MarkupSafe>=2.0 in /usr/local/lib/python3.10/dist-packages (from jinja2->torch->torchviz) (2.1.5)\n",
            "Requirement already satisfied: mpmath>=0.19 in /usr/local/lib/python3.10/dist-packages (from sympy->torch->torchviz) (1.3.0)\n",
            "Building wheels for collected packages: torchviz\n",
            "  Building wheel for torchviz (setup.py) ... \u001b[?25l\u001b[?25hdone\n",
            "  Created wheel for torchviz: filename=torchviz-0.0.2-py3-none-any.whl size=4131 sha256=7426b6aafe8d9c5cb867d0c2f977f0a68788578b10177adb2e88f82f4ee50d56\n",
            "  Stored in directory: /root/.cache/pip/wheels/4c/97/88/a02973217949e0db0c9f4346d154085f4725f99c4f15a87094\n",
            "Successfully built torchviz\n",
            "Installing collected packages: torchviz\n",
            "Successfully installed torchviz-0.0.2\n"
          ]
        }
      ]
    },
    {
      "cell_type": "code",
      "source": [
        "from torchviz import make_dot\n",
        "x=torch.tensor([1., 2.],requires_grad=True)\n",
        "make_dot(x)\n",
        "make_dot((x**2+1)**2)"
      ],
      "metadata": {
        "colab": {
          "base_uri": "https://localhost:8080/",
          "height": 455
        },
        "id": "i0ZIQ4bERDmD",
        "outputId": "a8c150f5-7c52-41a9-b48e-0326a5c7bb61"
      },
      "execution_count": null,
      "outputs": [
        {
          "output_type": "execute_result",
          "data": {
            "image/svg+xml": "<?xml version=\"1.0\" encoding=\"UTF-8\" standalone=\"no\"?>\n<!DOCTYPE svg PUBLIC \"-//W3C//DTD SVG 1.1//EN\"\n \"http://www.w3.org/Graphics/SVG/1.1/DTD/svg11.dtd\">\n<!-- Generated by graphviz version 2.43.0 (0)\n -->\n<!-- Title: %3 Pages: 1 -->\n<svg width=\"109pt\" height=\"326pt\"\n viewBox=\"0.00 0.00 109.00 326.00\" xmlns=\"http://www.w3.org/2000/svg\" xmlns:xlink=\"http://www.w3.org/1999/xlink\">\n<g id=\"graph0\" class=\"graph\" transform=\"scale(1 1) rotate(0) translate(4 322)\">\n<title>%3</title>\n<polygon fill=\"white\" stroke=\"transparent\" points=\"-4,4 -4,-322 105,-322 105,4 -4,4\"/>\n<!-- 133370751283536 -->\n<g id=\"node1\" class=\"node\">\n<title>133370751283536</title>\n<polygon fill=\"#caff70\" stroke=\"black\" points=\"77.5,-31 23.5,-31 23.5,0 77.5,0 77.5,-31\"/>\n<text text-anchor=\"middle\" x=\"50.5\" y=\"-7\" font-family=\"monospace\" font-size=\"10.00\"> (2)</text>\n</g>\n<!-- 133370751624352 -->\n<g id=\"node2\" class=\"node\">\n<title>133370751624352</title>\n<polygon fill=\"lightgrey\" stroke=\"black\" points=\"95,-86 6,-86 6,-67 95,-67 95,-86\"/>\n<text text-anchor=\"middle\" x=\"50.5\" y=\"-74\" font-family=\"monospace\" font-size=\"10.00\">PowBackward0</text>\n</g>\n<!-- 133370751624352&#45;&gt;133370751283536 -->\n<g id=\"edge5\" class=\"edge\">\n<title>133370751624352&#45;&gt;133370751283536</title>\n<path fill=\"none\" stroke=\"black\" d=\"M50.5,-66.79C50.5,-60.07 50.5,-50.4 50.5,-41.34\"/>\n<polygon fill=\"black\" stroke=\"black\" points=\"54,-41.19 50.5,-31.19 47,-41.19 54,-41.19\"/>\n</g>\n<!-- 133370751622336 -->\n<g id=\"node3\" class=\"node\">\n<title>133370751622336</title>\n<polygon fill=\"lightgrey\" stroke=\"black\" points=\"95,-141 6,-141 6,-122 95,-122 95,-141\"/>\n<text text-anchor=\"middle\" x=\"50.5\" y=\"-129\" font-family=\"monospace\" font-size=\"10.00\">AddBackward0</text>\n</g>\n<!-- 133370751622336&#45;&gt;133370751624352 -->\n<g id=\"edge1\" class=\"edge\">\n<title>133370751622336&#45;&gt;133370751624352</title>\n<path fill=\"none\" stroke=\"black\" d=\"M50.5,-121.75C50.5,-114.8 50.5,-104.85 50.5,-96.13\"/>\n<polygon fill=\"black\" stroke=\"black\" points=\"54,-96.09 50.5,-86.09 47,-96.09 54,-96.09\"/>\n</g>\n<!-- 133370751622624 -->\n<g id=\"node4\" class=\"node\">\n<title>133370751622624</title>\n<polygon fill=\"lightgrey\" stroke=\"black\" points=\"95,-196 6,-196 6,-177 95,-177 95,-196\"/>\n<text text-anchor=\"middle\" x=\"50.5\" y=\"-184\" font-family=\"monospace\" font-size=\"10.00\">PowBackward0</text>\n</g>\n<!-- 133370751622624&#45;&gt;133370751622336 -->\n<g id=\"edge2\" class=\"edge\">\n<title>133370751622624&#45;&gt;133370751622336</title>\n<path fill=\"none\" stroke=\"black\" d=\"M50.5,-176.75C50.5,-169.8 50.5,-159.85 50.5,-151.13\"/>\n<polygon fill=\"black\" stroke=\"black\" points=\"54,-151.09 50.5,-141.09 47,-151.09 54,-151.09\"/>\n</g>\n<!-- 133370751624832 -->\n<g id=\"node5\" class=\"node\">\n<title>133370751624832</title>\n<polygon fill=\"lightgrey\" stroke=\"black\" points=\"101,-251 0,-251 0,-232 101,-232 101,-251\"/>\n<text text-anchor=\"middle\" x=\"50.5\" y=\"-239\" font-family=\"monospace\" font-size=\"10.00\">AccumulateGrad</text>\n</g>\n<!-- 133370751624832&#45;&gt;133370751622624 -->\n<g id=\"edge3\" class=\"edge\">\n<title>133370751624832&#45;&gt;133370751622624</title>\n<path fill=\"none\" stroke=\"black\" d=\"M50.5,-231.75C50.5,-224.8 50.5,-214.85 50.5,-206.13\"/>\n<polygon fill=\"black\" stroke=\"black\" points=\"54,-206.09 50.5,-196.09 47,-206.09 54,-206.09\"/>\n</g>\n<!-- 133373869306192 -->\n<g id=\"node6\" class=\"node\">\n<title>133373869306192</title>\n<polygon fill=\"lightblue\" stroke=\"black\" points=\"77.5,-318 23.5,-318 23.5,-287 77.5,-287 77.5,-318\"/>\n<text text-anchor=\"middle\" x=\"50.5\" y=\"-294\" font-family=\"monospace\" font-size=\"10.00\"> (2)</text>\n</g>\n<!-- 133373869306192&#45;&gt;133370751624832 -->\n<g id=\"edge4\" class=\"edge\">\n<title>133373869306192&#45;&gt;133370751624832</title>\n<path fill=\"none\" stroke=\"black\" d=\"M50.5,-286.92C50.5,-279.22 50.5,-269.69 50.5,-261.43\"/>\n<polygon fill=\"black\" stroke=\"black\" points=\"54,-261.25 50.5,-251.25 47,-261.25 54,-261.25\"/>\n</g>\n</g>\n</svg>\n",
            "text/plain": [
              "<graphviz.graphs.Digraph at 0x794ccc4616f0>"
            ]
          },
          "metadata": {},
          "execution_count": 86
        }
      ]
    },
    {
      "cell_type": "code",
      "source": [
        "x=torch.tensor([1.],requires_grad=True)\n",
        "y=torch.abs(x)\n",
        "\n",
        "print(y)\n",
        "y.backward()\n",
        "print(x.grad)"
      ],
      "metadata": {
        "colab": {
          "base_uri": "https://localhost:8080/"
        },
        "id": "XMXsCXXhRxaC",
        "outputId": "0b0d2531-09aa-4079-be4f-f8e3a197104e"
      },
      "execution_count": null,
      "outputs": [
        {
          "output_type": "stream",
          "name": "stdout",
          "text": [
            "tensor([0.], grad_fn=<AbsBackward0>)\n",
            "tensor([0.])\n"
          ]
        }
      ]
    },
    {
      "cell_type": "markdown",
      "source": [
        "## 간단한 인공신경망 만들기"
      ],
      "metadata": {
        "id": "g9wIJqMDWeJ_"
      }
    },
    {
      "cell_type": "code",
      "source": [
        "from torch import nn\n",
        "\n",
        "x=torch.tensor([1.])\n",
        "model=nn.Linear(1,1) # 입력 node 한 개, 출력 node 한 개인 layer 만듦\n",
        "print(model.weight) # 만들면서 initialize 함\n",
        "print(model.bias)\n",
        "\n",
        "y=model(x) # 인공신경망은 함수다, f 대신에 model인 것 뿐이다\n",
        "print(y)\n",
        "\n",
        "y=x @model.weight + model.bias\n",
        "print(y)"
      ],
      "metadata": {
        "colab": {
          "base_uri": "https://localhost:8080/"
        },
        "id": "rIYSHc7hWt99",
        "outputId": "7ee280db-7ab6-4623-f06c-eeebb47abbee"
      },
      "execution_count": 4,
      "outputs": [
        {
          "output_type": "stream",
          "name": "stdout",
          "text": [
            "Parameter containing:\n",
            "tensor([[0.4845]], requires_grad=True)\n",
            "Parameter containing:\n",
            "tensor([0.1993], requires_grad=True)\n",
            "tensor([0.6838], grad_fn=<ViewBackward0>)\n",
            "tensor([0.6838], grad_fn=<AddBackward0>)\n"
          ]
        }
      ]
    },
    {
      "cell_type": "code",
      "source": [
        "fc1=nn.Linear(1,3) # 1개에서 3개 fully-connected ex) 손에서 다른 곳으로 뻗어나감\n",
        "fc2=nn.Linear(3,1) # 3개에서 1개 ex) 손, 머리, 발에서 신호를 받음\n",
        "\n",
        "print(fc1.weight) # 3개\n",
        "print(fc1.bias) # 3개\n",
        "print(fc2.weight) # 3개\n",
        "print(fc2.bias) # 1개\n",
        "\n",
        "x=torch.tensor([1.])\n",
        "x=fc1(x) # 3개가 만들어지고\n",
        "print(x)\n",
        "x=fc2(x) # 1개가 만들어짐\n",
        "print(x)\n",
        "\n",
        "x=torch.tensor([1.])\n",
        "y=(x@fc1.weight.T+fc1.bias)@fc2.weight.T+fc2.bias\n",
        "# nn.Linear 는 개 채 행 열 에서 '채' 형태로 (1D data) 들어오길 기대하는 녀석이다\n",
        "# 채=큐브=노드\n",
        "# 5 사람의 키와 몸무게 == (5,2)\n",
        "# 즉, 노드 한 개가 한 채널을 의미한다\n",
        "# 따라서, 데이터 여러개를 통과시키고 싶다면 개x채의 형태로 줘야 함\n",
        "# why transpose? weight의 shape 도 개x채로 만들고 싶어서 그렇다\n",
        "# 일단, weight shape 개x채 에서 채는 무조건 앞에 거 채널 개수와 맞추셈!\n",
        "# 예를 들어, nn.Linear(2,3) 이면 앞에거 채널 개수는 2 따라서 ?x2 인데\n",
        "# 두 채널 값을 가지고 3개의 노드를 만드는 거라서 3x2 가 된다!\n",
        "# 2개의 재료를 가지고 3명의 사람이 weight를 달리해서 소스를 만든다\n"
      ],
      "metadata": {
        "colab": {
          "base_uri": "https://localhost:8080/"
        },
        "id": "4khZZy3yYhWE",
        "outputId": "23ff89cf-6f07-42b2-cd54-d635bf2a7b37"
      },
      "execution_count": null,
      "outputs": [
        {
          "output_type": "stream",
          "name": "stdout",
          "text": [
            "Parameter containing:\n",
            "tensor([[ 0.1725],\n",
            "        [ 0.7384],\n",
            "        [-0.0987]], requires_grad=True)\n",
            "Parameter containing:\n",
            "tensor([ 0.1300, -0.1057, -0.5627], requires_grad=True)\n",
            "Parameter containing:\n",
            "tensor([[ 0.3418,  0.0600, -0.3409]], requires_grad=True)\n",
            "Parameter containing:\n",
            "tensor([0.3977], requires_grad=True)\n",
            "tensor([ 0.3026,  0.6328, -0.6614], grad_fn=<ViewBackward0>)\n",
            "tensor([0.7646], grad_fn=<ViewBackward0>)\n"
          ]
        }
      ]
    },
    {
      "cell_type": "code",
      "source": [
        "fc1=nn.Linear(1,3) # 1개에서 3개 fully-connected ex) 손에서 다른 곳으로 뻗어나감\n",
        "fc2=nn.Linear(3,1) # 3개에서 1개 ex) 손, 머리, 발에서 신호를 받음\n",
        "\n",
        "x=torch.tensor([1.])\n",
        "\n",
        "# 두개를 따로하기 귀찮으니 한개로 합쳐버린다\n",
        "# (1->3, 3->1) => (1->3->1)\n",
        "\n",
        "model=nn.Sequential(fc1,fc2) #layer 풀칠 이 모델을 두 층을 갖고 있는 것이다\n",
        "print(model(x))"
      ],
      "metadata": {
        "colab": {
          "base_uri": "https://localhost:8080/"
        },
        "id": "RBDG4BfBgSNk",
        "outputId": "334da6fd-a3fe-4de0-efba-db0fbcb2dfbe"
      },
      "execution_count": null,
      "outputs": [
        {
          "output_type": "stream",
          "name": "stdout",
          "text": [
            "tensor([0.7757], grad_fn=<ViewBackward0>)\n"
          ]
        }
      ]
    },
    {
      "cell_type": "code",
      "source": [
        "model = nn.Sequential(nn.Linear(2,5), # 여기는 채,채\n",
        "              nn.Linear(5,10),\n",
        "              nn.Linear(10,3))\n",
        "\n",
        "x=torch.randn(2) # 2개를 랜덤으로 만든다\n",
        "print(x)\n",
        "print(model(x))\n",
        "\n",
        "x=torch.randn(1,2) # 대괄호 갯수만 차이난다\n",
        "print(x)\n",
        "print(model(x))\n",
        "\n",
        "x=torch.randn(5,2) # 개x체 (2개의 feature를 가진 5사람)\n",
        "print(x)\n",
        "print(model(x)) # 5x3 이 나온다\n",
        "\n",
        "x= torch.randn(2,3,1,4,5,2) # 개 개 개 개 개 체\n",
        "# nn Linear 은 채 또는 개채 를 받아들이기 때문에 2만 채로 보고 나머지는 다 개로 본다\n",
        "# 키와 몸무게(2) 를 가진 사람 5명이 4명씩 조를 이루어 한 반이 되고, 3반이 되고 마지막으로 2학년이 있다.\n",
        "# print(model(x))\n",
        "print(model(x).shape)\n"
      ],
      "metadata": {
        "colab": {
          "base_uri": "https://localhost:8080/"
        },
        "id": "OTE6pURsg4Oc",
        "outputId": "2a5c9738-c6e7-4a95-d196-9df37025b0d7"
      },
      "execution_count": 12,
      "outputs": [
        {
          "output_type": "stream",
          "name": "stdout",
          "text": [
            "tensor([-1.2677, -0.8166])\n",
            "tensor([0.0532, 0.3126, 0.2288], grad_fn=<ViewBackward0>)\n",
            "tensor([[ 0.2783, -0.2581]])\n",
            "tensor([[0.0117, 0.3354, 0.3215]], grad_fn=<AddmmBackward0>)\n",
            "tensor([[-1.4899,  0.1268],\n",
            "        [ 0.3834, -1.1499],\n",
            "        [-0.9695,  1.1938],\n",
            "        [ 0.3565, -1.8002],\n",
            "        [-1.3442,  0.1753]])\n",
            "tensor([[ 0.0951,  0.3673,  0.3363],\n",
            "        [-0.0237,  0.2843,  0.2182],\n",
            "        [ 0.1120,  0.4246,  0.4712],\n",
            "        [-0.0455,  0.2477,  0.1410],\n",
            "        [ 0.0910,  0.3692,  0.3445]], grad_fn=<AddmmBackward0>)\n",
            "torch.Size([2, 3, 1, 4, 5, 3])\n"
          ]
        }
      ]
    },
    {
      "cell_type": "code",
      "source": [
        "class MyModel(nn.Module): ##nn.Module 을 상속 받는다\n",
        "    def __init__(self):\n",
        "        super().__init__() # 상속 받은 class의 init 함수를 먼저 실행시킨 뒤,\n",
        "\n",
        "        self.fc1 = nn.Linear(2,5)\n",
        "        self.fc2 = nn.Linear(5,10)\n",
        "        self.fc3 = nn.Linear(10,3)\n",
        "        self.sig1 = nn.Sigmoid() # 0 과 1 사이 (1/(1+e^(-x))) 0에서 0.5를 가진다\n",
        "        self.sig2 = nn.Sigmoid()\n",
        "        self.sig3 = nn.Sigmoid()\n",
        "\n",
        "    def forward(self,x):\n",
        "\n",
        "        x = self.fc1(x)\n",
        "        x = self.sig1(x)\n",
        "\n",
        "        x=self.fc2(x)\n",
        "        x=self.sig2(x)\n",
        "\n",
        "        x=self.fc3(x)\n",
        "        x=self.sig3(x)\n",
        "\n",
        "        return x\n",
        "\n",
        "x=torch.randn(5,2)\n",
        "model=MyModel() # 인스턴스화\n",
        "print(model(x))\n",
        "y=model(x)\n",
        "print(y)"
      ],
      "metadata": {
        "id": "CoJiczOyhjIE",
        "colab": {
          "base_uri": "https://localhost:8080/"
        },
        "outputId": "f3c35337-6be6-492d-f57a-2fccc20323be"
      },
      "execution_count": 36,
      "outputs": [
        {
          "output_type": "stream",
          "name": "stdout",
          "text": [
            "tensor([[0.3945, 0.5875, 0.4646],\n",
            "        [0.3952, 0.5875, 0.4646],\n",
            "        [0.3923, 0.5865, 0.4644],\n",
            "        [0.3911, 0.5850, 0.4641],\n",
            "        [0.3910, 0.5853, 0.4641]], grad_fn=<SigmoidBackward0>)\n",
            "tensor([[0.3945, 0.5875, 0.4646],\n",
            "        [0.3952, 0.5875, 0.4646],\n",
            "        [0.3923, 0.5865, 0.4644],\n",
            "        [0.3911, 0.5850, 0.4641],\n",
            "        [0.3910, 0.5853, 0.4641]], grad_fn=<SigmoidBackward0>)\n"
          ]
        }
      ]
    },
    {
      "cell_type": "code",
      "source": [
        "print(model)\n",
        "print(model.fc1.weight)\n",
        "print(model.fc2.bias)"
      ],
      "metadata": {
        "colab": {
          "base_uri": "https://localhost:8080/"
        },
        "id": "tk4Yika8ZD4y",
        "outputId": "a1642f38-408e-49f9-d4e6-5dda8f81e1f5"
      },
      "execution_count": 37,
      "outputs": [
        {
          "output_type": "stream",
          "name": "stdout",
          "text": [
            "MyModel(\n",
            "  (fc1): Linear(in_features=2, out_features=5, bias=True)\n",
            "  (fc2): Linear(in_features=5, out_features=10, bias=True)\n",
            "  (fc3): Linear(in_features=10, out_features=3, bias=True)\n",
            "  (sig1): Sigmoid()\n",
            "  (sig2): Sigmoid()\n",
            "  (sig3): Sigmoid()\n",
            ")\n",
            "Parameter containing:\n",
            "tensor([[ 0.6928,  0.4521],\n",
            "        [ 0.0407,  0.6896],\n",
            "        [ 0.2718,  0.5158],\n",
            "        [-0.3842, -0.3015],\n",
            "        [-0.0484, -0.4887]], requires_grad=True)\n",
            "Parameter containing:\n",
            "tensor([-0.4440, -0.4022, -0.2166, -0.0540, -0.0574, -0.0763,  0.4210, -0.2553,\n",
            "        -0.3614, -0.4041], requires_grad=True)\n"
          ]
        }
      ]
    },
    {
      "cell_type": "code",
      "source": [
        "class MyModel2(nn.Module): # nn.Module 을 상속 받는다\n",
        "    def __init__(self):\n",
        "        super().__init__() # 상속 받은 class의 init 함수를 먼저 실행시킨 뒤,\n",
        "\n",
        "        self.linear = nn.Sequential(nn.Linear(2,5),\n",
        "                                    nn.Sigmoid(),\n",
        "                                    nn.Linear(5,10),\n",
        "                                    nn.Sigmoid(),\n",
        "                                    nn.Linear(10,3),\n",
        "                                    nn.Sigmoid()\n",
        "        )\n",
        "\n",
        "    def forward(self,x):\n",
        "\n",
        "        x = self.linear(x)\n",
        "\n",
        "        return x\n",
        "\n",
        "x=torch.randn(5,2)\n",
        "model2=MyModel2() # 인스턴스화\n",
        "y=model2(x)\n",
        "print(y)"
      ],
      "metadata": {
        "colab": {
          "base_uri": "https://localhost:8080/"
        },
        "id": "vS49wsJjajb0",
        "outputId": "a68b27cf-b690-4cff-91f8-822c8867c71c"
      },
      "execution_count": 43,
      "outputs": [
        {
          "output_type": "stream",
          "name": "stdout",
          "text": [
            "tensor([[0.3863, 0.3667, 0.6147],\n",
            "        [0.3831, 0.3701, 0.6213],\n",
            "        [0.3865, 0.3669, 0.6151],\n",
            "        [0.3879, 0.3635, 0.6087],\n",
            "        [0.3849, 0.3671, 0.6149]], grad_fn=<SigmoidBackward0>)\n"
          ]
        }
      ]
    },
    {
      "cell_type": "code",
      "source": [
        "print(model2)\n",
        "print(model2.linear[0].weight)\n",
        "# print(model2.linear[-1].bias) # sigmoid 는 bias 가 없다"
      ],
      "metadata": {
        "colab": {
          "base_uri": "https://localhost:8080/"
        },
        "id": "51pFNzJrcYe0",
        "outputId": "98d917a7-5aa6-49fa-8ad1-2b3347a29c07"
      },
      "execution_count": 61,
      "outputs": [
        {
          "output_type": "stream",
          "name": "stdout",
          "text": [
            "MyModel2(\n",
            "  (linear): Sequential(\n",
            "    (0): Linear(in_features=2, out_features=5, bias=True)\n",
            "    (1): Sigmoid()\n",
            "    (2): Linear(in_features=5, out_features=10, bias=True)\n",
            "    (3): Sigmoid()\n",
            "    (4): Linear(in_features=10, out_features=3, bias=True)\n",
            "    (5): Sigmoid()\n",
            "  )\n",
            ")\n",
            "Parameter containing:\n",
            "tensor([[ 0.5150, -0.2686],\n",
            "        [-0.4280,  0.0384],\n",
            "        [ 0.0776, -0.5960],\n",
            "        [-0.0293, -0.5897],\n",
            "        [-0.3491,  0.5799]], requires_grad=True)\n"
          ]
        }
      ]
    },
    {
      "cell_type": "code",
      "source": [
        "list(model.parameters())"
      ],
      "metadata": {
        "colab": {
          "base_uri": "https://localhost:8080/"
        },
        "id": "6iNnKptwdT59",
        "outputId": "63a84ed4-abe0-4c8c-d2e5-e45b4dd0860e"
      },
      "execution_count": 63,
      "outputs": [
        {
          "output_type": "execute_result",
          "data": {
            "text/plain": [
              "[Parameter containing:\n",
              " tensor([[ 0.6130, -0.0015],\n",
              "         [ 0.5810,  0.5023],\n",
              "         [-0.3584,  0.2635],\n",
              "         [ 0.0057, -0.1359],\n",
              "         [ 0.6798, -0.5492]], requires_grad=True),\n",
              " Parameter containing:\n",
              " tensor([ 0.0042, -0.0460, -0.2460, -0.2525,  0.5457], requires_grad=True),\n",
              " Parameter containing:\n",
              " tensor([[-0.2507,  0.4008,  0.3225, -0.0893,  0.0796],\n",
              "         [-0.3600,  0.1643, -0.2744, -0.4106, -0.2057],\n",
              "         [-0.2403, -0.0067,  0.0729,  0.0210, -0.0170],\n",
              "         [ 0.1456, -0.3337, -0.2714,  0.4341,  0.1878],\n",
              "         [-0.4234, -0.0651,  0.2360, -0.2200, -0.2227],\n",
              "         [ 0.0659,  0.3167,  0.1753, -0.3475, -0.1934],\n",
              "         [ 0.1763,  0.4391,  0.0466,  0.1904,  0.2668],\n",
              "         [ 0.3684,  0.3697,  0.0736, -0.3908, -0.2452],\n",
              "         [-0.4182,  0.3350, -0.3864,  0.4294,  0.1702],\n",
              "         [ 0.3072, -0.2138, -0.2045,  0.1802, -0.0009]], requires_grad=True),\n",
              " Parameter containing:\n",
              " tensor([ 0.2980,  0.1017,  0.0644, -0.2639, -0.2873, -0.1399,  0.2399,  0.2349,\n",
              "          0.0307, -0.3014], requires_grad=True),\n",
              " Parameter containing:\n",
              " tensor([[ 0.2053, -0.3007, -0.1968, -0.1467, -0.1885, -0.2118, -0.2320, -0.2243,\n",
              "          -0.0890,  0.0650],\n",
              "         [-0.3050,  0.0293,  0.2645,  0.2093, -0.2568, -0.0523,  0.2728, -0.1862,\n",
              "          -0.1634, -0.2215],\n",
              "         [ 0.1308,  0.1170,  0.0816,  0.1384,  0.0741, -0.2886,  0.2404,  0.1639,\n",
              "           0.2475, -0.2889]], requires_grad=True),\n",
              " Parameter containing:\n",
              " tensor([-0.0408, -0.0713,  0.0977], requires_grad=True)]"
            ]
          },
          "metadata": {},
          "execution_count": 63
        }
      ]
    },
    {
      "cell_type": "code",
      "source": [
        "# 파라미터 수 구하기\n",
        "num = sum([p.numel() for p in model.parameters() if p.requires_grad]) # 학습되는 파라미터만 알고 싶으면\n",
        "print(num)"
      ],
      "metadata": {
        "colab": {
          "base_uri": "https://localhost:8080/"
        },
        "id": "FXTFQ52WdqLb",
        "outputId": "b36fc508-8b48-478d-a0f7-9690b9446a44"
      },
      "execution_count": 70,
      "outputs": [
        {
          "output_type": "stream",
          "name": "stdout",
          "text": [
            "108\n"
          ]
        }
      ]
    }
  ]
}