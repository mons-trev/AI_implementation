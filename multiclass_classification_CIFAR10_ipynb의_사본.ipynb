{
  "nbformat": 4,
  "nbformat_minor": 0,
  "metadata": {
    "colab": {
      "provenance": [],
      "gpuType": "T4",
      "authorship_tag": "ABX9TyO3W9heHXrh1MCqAEratOi2"
    },
    "kernelspec": {
      "name": "python3",
      "display_name": "Python 3"
    },
    "language_info": {
      "name": "python"
    },
    "accelerator": "GPU"
  },
  "cells": [
    {
      "cell_type": "code",
      "execution_count": null,
      "metadata": {
        "colab": {
          "base_uri": "https://localhost:8080/"
        },
        "id": "chcHr8J_lBWO",
        "outputId": "9369fa1d-a961-4136-dee3-e7c16c82d5af"
      },
      "outputs": [
        {
          "output_type": "stream",
          "name": "stdout",
          "text": [
            "Drive already mounted at /content/drive; to attempt to forcibly remount, call drive.mount(\"/content/drive\", force_remount=True).\n",
            "cpu\n"
          ]
        }
      ],
      "source": [
        "from google.colab import drive\n",
        "drive.mount('/content/drive') # mount 를 여기에 해줘\n",
        "\n",
        "import sys\n",
        "sys.path.append(\"/content/drive/MyDrive/Colab Notebooks\")\n",
        "\n",
        "from multiclass_functions1 import * # all\n",
        "import torch\n",
        "from torch import nn, optim\n",
        "from torchvision import datasets, transforms\n",
        "import matplotlib.pyplot as plt\n",
        "\n",
        "DEVICE =  \"cuda\" if torch.cuda.is_available() else \"cpu\"\n",
        "print(DEVICE)\n"
      ]
    },
    {
      "cell_type": "code",
      "source": [
        "BATCH_SIZE = 32\n",
        "LR = 1e-3\n",
        "EPOCH = 5\n",
        "criterion = nn.CrossEntropyLoss()\n",
        "new_model_train = True\n",
        "model_type = \"CNN_deep\"\n",
        "dataset = \"CIFAR10\"\n",
        "\n",
        "save_model_path = f\"/content/drive/MyDrive/Colab Notebooks/results/{model_type}_{dataset}.pt\""
      ],
      "metadata": {
        "id": "MaGiOHVamSTN"
      },
      "execution_count": null,
      "outputs": []
    },
    {
      "cell_type": "code",
      "source": [
        "transform = transforms.ToTensor()\n",
        "train_DS = datasets.CIFAR10(root = '/content/drive/MyDrive/Colab Notebooks/data', train=True, download=True, transform=transform)\n",
        "test_DS = datasets.CIFAR10(root = '/content/drive/MyDrive/Colab Notebooks/data', train=False, download=True, transform=transform)\n",
        "\n",
        "train_DL = torch.utils.data.DataLoader(train_DS, batch_size=BATCH_SIZE, shuffle=True)\n",
        "test_DL = torch.utils.data.DataLoader(test_DS, batch_size=BATCH_SIZE, shuffle=True)"
      ],
      "metadata": {
        "id": "jPS7o4ybnRbm",
        "colab": {
          "base_uri": "https://localhost:8080/"
        },
        "outputId": "bf47e8ec-0c5e-42e2-f7d7-0bc9bef058a7"
      },
      "execution_count": null,
      "outputs": [
        {
          "output_type": "stream",
          "name": "stdout",
          "text": [
            "Files already downloaded and verified\n",
            "Files already downloaded and verified\n"
          ]
        }
      ]
    },
    {
      "cell_type": "code",
      "source": [
        "from itertools import permutations\n",
        "print(train_DS.data.shape) # 개행열체\n",
        "print(test_DS.data.shape)\n",
        "\n",
        "print(train_DS.classes)\n",
        "print(test_DS.class_to_idx)\n",
        "\n",
        "x_batch, y_batch=next(iter(test_DL)) # 개체행열로 바뀜\n",
        "print(x_batch.shape)\n",
        "plt.imshow(x_batch[0].permute(1,2,0)) # imshow 는 행열체로 바꿔줘야한다\n",
        "print(test_DS.classes[y_batch[0]])"
      ],
      "metadata": {
        "colab": {
          "base_uri": "https://localhost:8080/",
          "height": 559
        },
        "id": "RnfW5-m7d-m6",
        "outputId": "99deb660-7e5a-41aa-8646-ed7b1abeecb3"
      },
      "execution_count": null,
      "outputs": [
        {
          "output_type": "stream",
          "name": "stdout",
          "text": [
            "(50000, 32, 32, 3)\n",
            "(10000, 32, 32, 3)\n",
            "['airplane', 'automobile', 'bird', 'cat', 'deer', 'dog', 'frog', 'horse', 'ship', 'truck']\n",
            "{'airplane': 0, 'automobile': 1, 'bird': 2, 'cat': 3, 'deer': 4, 'dog': 5, 'frog': 6, 'horse': 7, 'ship': 8, 'truck': 9}\n",
            "torch.Size([32, 3, 32, 32])\n",
            "horse\n"
          ]
        },
        {
          "output_type": "display_data",
          "data": {
            "text/plain": [
              "<Figure size 640x480 with 1 Axes>"
            ],
            "image/png": "[encoded data removed]"
          },
          "metadata": {}
        }
      ]
    },
    {
      "cell_type": "code",
      "source": [
        "class MLP(nn.Module) :\n",
        "    def __init__(self):\n",
        "        super().__init__()\n",
        "        self.linear = nn.Sequential(nn.Linear(28*28,100), # 각 픽셀을 채널로 본다\n",
        "                                    nn.ReLU(),\n",
        "                                    nn.Linear(100,10)\n",
        "                                    )\n",
        "    def forward(self, x):\n",
        "        x = self.linear(torch.flatten(x, start_dim = 1))\n",
        "        return x\n",
        "\n",
        "class CNN(nn.Module):\n",
        "    def __init__(self) :\n",
        "        super().__init__()\n",
        "\n",
        "        self.conv1= nn.Sequential(nn.Conv2d(3,8,3,padding=1),\n",
        "                                  nn.BatchNorm2d(8),\n",
        "                                  nn.ReLU())\n",
        "        self.Maxpool1= nn.MaxPool2d(2)\n",
        "        self.conv2= nn.Sequential(nn.Conv2d(8,16,3,padding=1),\n",
        "                                  nn.BatchNorm2d(16),\n",
        "                                  nn.ReLU())\n",
        "        self.Maxpool2= nn.MaxPool2d(2)\n",
        "        self.conv3= nn.Sequential(nn.Conv2d(16,32,3,padding=1),\n",
        "                                  nn.BatchNorm2d(32),\n",
        "                                  nn.ReLU())\n",
        "        self.Maxpool3= nn.MaxPool2d(2)\n",
        "\n",
        "        self.fc = nn.Linear(32*4*4, 10)\n",
        "\n",
        "    def forward(self, x) :\n",
        "        x = self.conv1(x)\n",
        "        x = self.Maxpool1(x)\n",
        "\n",
        "        x = self.conv2(x)\n",
        "        x = self.Maxpool2(x)\n",
        "\n",
        "        x = self.conv3(x)\n",
        "        x = self.Maxpool3(x)\n",
        "\n",
        "        x = torch.flatten(x, start_dim=1)\n",
        "        x = self.fc(x)\n",
        "        return x\n",
        "\n",
        "\n",
        "\n",
        "\n",
        "x=torch.randn(32,3,32,32)\n",
        "model=CNN()\n",
        "model(x).shape"
      ],
      "metadata": {
        "id": "qFylYjt0n2fy",
        "colab": {
          "base_uri": "https://localhost:8080/"
        },
        "outputId": "540f5664-bedf-4ad4-f808-de50052f635a"
      },
      "execution_count": null,
      "outputs": [
        {
          "output_type": "execute_result",
          "data": {
            "text/plain": [
              "torch.Size([32, 10])"
            ]
          },
          "metadata": {},
          "execution_count": 13
        }
      ]
    },
    {
      "cell_type": "code",
      "source": [
        "class CNN_deep(nn.Module):\n",
        "    def __init__(self):\n",
        "        super().__init__()\n",
        "        self.conv_block1 = nn.Sequential(nn.Conv2d(3,32,3,padding=1),\n",
        "                                         nn.BatchNorm2d(32),\n",
        "                                         nn.ReLU(),\n",
        "                                         nn.Conv2d(32,32,3,padding=1),\n",
        "                                         nn.BatchNorm2d(32),\n",
        "                                         nn.ReLU())\n",
        "        self.Maxpool1 = nn.MaxPool2d(2)\n",
        "\n",
        "        self.conv_block2 = nn.Sequential(nn.Conv2d(32,64,3,padding=1),\n",
        "                                         nn.BatchNorm2d(64),\n",
        "                                         nn.ReLU(),\n",
        "                                         nn.Conv2d(64,64,3,padding=1),\n",
        "                                         nn.BatchNorm2d(64),\n",
        "                                         nn.ReLU(),\n",
        "                                         nn.Conv2d(64,64,3,padding=1),\n",
        "                                         nn.BatchNorm2d(64),\n",
        "                                         nn.ReLU())\n",
        "        self.Maxpool2 = nn.MaxPool2d(2)\n",
        "\n",
        "        self.conv_block3 = nn.Sequential(nn.Conv2d(64,128,3,padding=1),\n",
        "                                         nn.BatchNorm2d(128),\n",
        "                                         nn.ReLU(),\n",
        "                                         nn.Conv2d(128,128,3,padding=1),\n",
        "                                         nn.BatchNorm2d(128),\n",
        "                                         nn.ReLU(),\n",
        "                                         nn.Conv2d(128,128,3,padding=1),\n",
        "                                         nn.BatchNorm2d(128),\n",
        "                                         nn.ReLU())\n",
        "        self.Maxpool3 = nn.MaxPool2d(2)\n",
        "\n",
        "        self.classifier = nn.Sequential(nn.Linear(128*4*4,512),\n",
        "                                        nn.Linear(512,10))\n",
        "\n",
        "    def forward(self, x):\n",
        "        x = self.conv_block1(x)\n",
        "        x = self.Maxpool1(x)\n",
        "        x = self.conv_block2(x)\n",
        "        x = self.Maxpool2(x)\n",
        "        x = self.conv_block3(x)\n",
        "        x = self.Maxpool3(x)\n",
        "        x = torch.flatten(x, start_dim=1)\n",
        "        x = self.classifier(x)\n",
        "        return x"
      ],
      "metadata": {
        "id": "MKbVWUaDjwkO"
      },
      "execution_count": null,
      "outputs": []
    },
    {
      "cell_type": "code",
      "source": [
        "exec(f\"model = {model_type}().to(DEVICE)\")\n",
        "print(model)\n",
        "x_batch, _ = next(iter(train_DL))\n",
        "print(model(x_batch.to(DEVICE)).shape)"
      ],
      "metadata": {
        "colab": {
          "base_uri": "https://localhost:8080/"
        },
        "id": "EB-7KtMNoAOr",
        "outputId": "c38e7a55-8cad-4cdb-fc43-6bf6f2fb8a33"
      },
      "execution_count": null,
      "outputs": [
        {
          "output_type": "stream",
          "name": "stdout",
          "text": [
            "CNN_deep(\n",
            "  (conv_block1): Sequential(\n",
            "    (0): Conv2d(3, 32, kernel_size=(3, 3), stride=(1, 1), padding=(1, 1))\n",
            "    (1): BatchNorm2d(32, eps=1e-05, momentum=0.1, affine=True, track_running_stats=True)\n",
            "    (2): ReLU()\n",
            "    (3): Conv2d(32, 32, kernel_size=(3, 3), stride=(1, 1), padding=(1, 1))\n",
            "    (4): BatchNorm2d(32, eps=1e-05, momentum=0.1, affine=True, track_running_stats=True)\n",
            "    (5): ReLU()\n",
            "  )\n",
            "  (Maxpool1): MaxPool2d(kernel_size=2, stride=2, padding=0, dilation=1, ceil_mode=False)\n",
            "  (conv_block2): Sequential(\n",
            "    (0): Conv2d(32, 64, kernel_size=(3, 3), stride=(1, 1), padding=(1, 1))\n",
            "    (1): BatchNorm2d(64, eps=1e-05, momentum=0.1, affine=True, track_running_stats=True)\n",
            "    (2): ReLU()\n",
            "    (3): Conv2d(64, 64, kernel_size=(3, 3), stride=(1, 1), padding=(1, 1))\n",
            "    (4): BatchNorm2d(64, eps=1e-05, momentum=0.1, affine=True, track_running_stats=True)\n",
            "    (5): ReLU()\n",
            "    (6): Conv2d(64, 64, kernel_size=(3, 3), stride=(1, 1), padding=(1, 1))\n",
            "    (7): BatchNorm2d(64, eps=1e-05, momentum=0.1, affine=True, track_running_stats=True)\n",
            "    (8): ReLU()\n",
            "  )\n",
            "  (Maxpool2): MaxPool2d(kernel_size=2, stride=2, padding=0, dilation=1, ceil_mode=False)\n",
            "  (conv_block3): Sequential(\n",
            "    (0): Conv2d(64, 128, kernel_size=(3, 3), stride=(1, 1), padding=(1, 1))\n",
            "    (1): BatchNorm2d(128, eps=1e-05, momentum=0.1, affine=True, track_running_stats=True)\n",
            "    (2): ReLU()\n",
            "    (3): Conv2d(128, 128, kernel_size=(3, 3), stride=(1, 1), padding=(1, 1))\n",
            "    (4): BatchNorm2d(128, eps=1e-05, momentum=0.1, affine=True, track_running_stats=True)\n",
            "    (5): ReLU()\n",
            "    (6): Conv2d(128, 128, kernel_size=(3, 3), stride=(1, 1), padding=(1, 1))\n",
            "    (7): BatchNorm2d(128, eps=1e-05, momentum=0.1, affine=True, track_running_stats=True)\n",
            "    (8): ReLU()\n",
            "  )\n",
            "  (Maxpool3): MaxPool2d(kernel_size=2, stride=2, padding=0, dilation=1, ceil_mode=False)\n",
            "  (classifier): Sequential(\n",
            "    (0): Linear(in_features=2048, out_features=512, bias=True)\n",
            "    (1): Linear(in_features=512, out_features=10, bias=True)\n",
            "  )\n",
            ")\n",
            "torch.Size([32, 10])\n"
          ]
        }
      ]
    },
    {
      "cell_type": "code",
      "source": [
        "if new_model_train:\n",
        "\n",
        "    optimizer = optim.Adam(model.parameters(), lr = LR)\n",
        "    loss_history = Train(model, train_DL, criterion, optimizer, EPOCH)\n",
        "\n",
        "    torch.save(model.state_dict(), save_model_path)\n",
        "\n",
        "    plt.plot(range(1,EPOCH+1),loss_history)\n",
        "    plt.xlabel('Epoch')\n",
        "    plt.ylabel('loss')\n",
        "    plt.title(\"Train Loss\")\n",
        "    plt.grid()"
      ],
      "metadata": {
        "colab": {
          "base_uri": "https://localhost:8080/",
          "height": 654
        },
        "id": "mOK_ieoLoeTs",
        "outputId": "ae3314fa-0a74-4097-dc85-8a2154fff303"
      },
      "execution_count": null,
      "outputs": [
        {
          "output_type": "stream",
          "name": "stdout",
          "text": [
            "Epoch: 1, train loss: 1.508\n",
            "--------------------\n",
            "Epoch: 2, train loss: 0.933\n",
            "--------------------\n",
            "Epoch: 3, train loss: 0.723\n",
            "--------------------\n",
            "Epoch: 4, train loss: 0.603\n",
            "--------------------\n",
            "Epoch: 5, train loss: 0.51\n",
            "--------------------\n"
          ]
        },
        {
          "output_type": "display_data",
          "data": {
            "text/plain": [
              "<Figure size 640x480 with 1 Axes>"
            ],
            "image/png": "[encoded data removed]"
          },
          "metadata": {}
        }
      ]
    },
    {
      "cell_type": "code",
      "source": [
        "load_model = exec(\"model_type\")()\n",
        "load_model.load_state_dict(torch.load(save_model_path, map_location=DEVICE))"
      ],
      "metadata": {
        "id": "J1M4aRmoovp0",
        "colab": {
          "base_uri": "https://localhost:8080/",
          "height": 165
        },
        "outputId": "ae18b887-00a2-48f3-df4b-73c93144ba10"
      },
      "execution_count": null,
      "outputs": [
        {
          "output_type": "error",
          "ename": "TypeError",
          "evalue": "'NoneType' object is not callable",
          "traceback": [
            "\u001b[0;31m---------------------------------------------------------------------------\u001b[0m",
            "\u001b[0;31mTypeError\u001b[0m                                 Traceback (most recent call last)",
            "\u001b[0;32m<ipython-input-17-8f53dbc9a7d2>\u001b[0m in \u001b[0;36m<cell line: 1>\u001b[0;34m()\u001b[0m\n\u001b[0;32m----> 1\u001b[0;31m \u001b[0mload_model\u001b[0m \u001b[0;34m=\u001b[0m \u001b[0mexec\u001b[0m\u001b[0;34m(\u001b[0m\u001b[0;34m\"model_type\"\u001b[0m\u001b[0;34m)\u001b[0m\u001b[0;34m(\u001b[0m\u001b[0;34m)\u001b[0m\u001b[0;34m\u001b[0m\u001b[0;34m\u001b[0m\u001b[0m\n\u001b[0m\u001b[1;32m      2\u001b[0m \u001b[0mload_model\u001b[0m\u001b[0;34m.\u001b[0m\u001b[0mload_state_dict\u001b[0m\u001b[0;34m(\u001b[0m\u001b[0mtorch\u001b[0m\u001b[0;34m.\u001b[0m\u001b[0mload\u001b[0m\u001b[0;34m(\u001b[0m\u001b[0msave_model_path\u001b[0m\u001b[0;34m,\u001b[0m \u001b[0mmap_location\u001b[0m\u001b[0;34m=\u001b[0m\u001b[0mDEVICE\u001b[0m\u001b[0;34m)\u001b[0m\u001b[0;34m)\u001b[0m\u001b[0;34m\u001b[0m\u001b[0;34m\u001b[0m\u001b[0m\n",
            "\u001b[0;31mTypeError\u001b[0m: 'NoneType' object is not callable"
          ]
        }
      ]
    },
    {
      "cell_type": "code",
      "source": [
        "Test(load_model, test_DL)\n",
        "print(count_params(load_model))"
      ],
      "metadata": {
        "id": "wm421U29pNJH"
      },
      "execution_count": null,
      "outputs": []
    },
    {
      "cell_type": "code",
      "source": [
        "Test_plot(load_model, test_DL)"
      ],
      "metadata": {
        "id": "SwEokPfHpXvI"
      },
      "execution_count": null,
      "outputs": []
    }
  ]
}