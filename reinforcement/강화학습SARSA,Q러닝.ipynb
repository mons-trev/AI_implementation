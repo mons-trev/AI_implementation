{
  "nbformat": 4,
  "nbformat_minor": 0,
  "metadata": {
    "colab": {
      "provenance": [],
      "authorship_tag": "ABX9TyM7q3suc9Tv41hTuJIa4Bhh"
    },
    "kernelspec": {
      "name": "python3",
      "display_name": "Python 3"
    },
    "language_info": {
      "name": "python"
    }
  },
  "cells": [
    {
      "cell_type": "code",
      "execution_count": null,
      "metadata": {
        "id": "h6RFSCk8E4ny"
      },
      "outputs": [],
      "source": [
        "import os\n",
        "import time\n",
        "import numpy as np\n",
        "import pandas as pd\n",
        "from typing import Tuple\n",
        "import random\n",
        "from collections import defaultdict\n",
        "import matplotlib.pyplot as plt"
      ]
    },
    {
      "cell_type": "code",
      "source": [
        "from google.colab import drive\n",
        "drive.mount('/content/drive')"
      ],
      "metadata": {
        "colab": {
          "base_uri": "https://localhost:8080/"
        },
        "id": "zgo2XZL4GViI",
        "outputId": "56470b6e-6e9b-42e0-db2f-fdf097eed91f"
      },
      "execution_count": null,
      "outputs": [
        {
          "output_type": "stream",
          "name": "stdout",
          "text": [
            "Mounted at /content/drive\n"
          ]
        }
      ]
    },
    {
      "cell_type": "markdown",
      "source": [
        "# 환경 코드"
      ],
      "metadata": {
        "id": "4V85k5593uQW"
      }
    },
    {
      "cell_type": "code",
      "source": [
        "class GridWorldEnvironment: # 환경 클래스 생성\n",
        "    def __init__(self, start_point: Tuple, end_point: Tuple, gridworld_size:Tuple) :\n",
        "\n",
        "        # 튜플로 좌표 넘겨 받기, 시작, 끝, 크기\n",
        "        self.start_point=start_point\n",
        "        self.end_point=end_point\n",
        "\n",
        "        self.height, self.width =gridworld_size\n",
        "        # action dictionary\n",
        "        self.action_space =['up', 'down', 'left', 'right'] # 행동 스페이스, 상하좌우\n",
        "        self.num_actions = len(self.action_space)\n",
        "        self.actions={}\n",
        "        dy=[-1,1,0,0]\n",
        "        dx=[0,0,-1,1]\n",
        "        for i in range(len(dy)) :\n",
        "            self.actions[self.action_space[i]] = (dy[i], dx[i])\n",
        "\n",
        "        self.present_state = start_point\n",
        "        # 상태: 좌표, 에이전트가 움직인 좌표를 모두 담음\n",
        "        self.traces=[]\n",
        "\n",
        "            # # total states\n",
        "            # self.total_states=[] # 모든 상태 좌표를 담음\n",
        "\n",
        "            # for i in range(self.height):\n",
        "            #     for j in range(self.width):\n",
        "            #         self.total_states.append((i,j))\n",
        "\n",
        "            # # 보상\n",
        "            # # 처음은 0으로 초기화\n",
        "            # self.reward = np.zeros(shpae=(self.height, self.width)).tolist()\n",
        "\n",
        "        self.grid_world = np.full(shape=(self.height, self.width), fill_value=\".\").tolist()\n",
        "\n",
        "    # 그리기 함수\n",
        "    def render(self) :\n",
        "\n",
        "        # last_point = self.traces[-1] # 에이전트가 가장 마지막에 있었던 위치\n",
        "        traces = list(set(self.traces)) # 중복된 값 삭제\n",
        "\n",
        "        for trace in traces :\n",
        "            self.grid_world[trace[0]][trace[1]] = 'X'\n",
        "\n",
        "        self.grid_world[self.start_point[0]][self.start_point[1]]='S'\n",
        "        self.grid_world[self.end_point[0]][self.end_point[1]]= 'G'\n",
        "        self.grid_world[self.present_state[0]][self.present_state[1]] = 'A'\n",
        "\n",
        "        # string 으로 출력\n",
        "        for i in range(self.height) :\n",
        "            grid=\"\"\n",
        "            for j in range(self.width) :\n",
        "                grid += self.grid_world[i][j]+' '\n",
        "            print(grid)\n",
        "\n",
        "    def reset(self) :\n",
        "        self.present_state=self.start_point\n",
        "        self.grid_world = np.full((self.height, self.width), fill_value=\".\").tolist()\n",
        "        self.traces = []\n",
        "        return self.start_point\n",
        "\n",
        "\n",
        "    def step(self, action_idx:int) :\n",
        "        action = self.action_space[action_idx]\n",
        "        rm, cm = self.actions[action]\n",
        "        next_state= (self.present_state[0]+rm, self.present_state[1]+cm)\n",
        "        next_state = self.check_boundary(next_state)\n",
        "\n",
        "        if next_state == self.end_point :\n",
        "            reward = 100\n",
        "            done=True\n",
        "        else :\n",
        "            reward = 0\n",
        "            done = False\n",
        "\n",
        "        self.present_state=next_state\n",
        "        self.traces.append(self.present_state)\n",
        "\n",
        "        return next_state, reward, done\n",
        "\n",
        "    #3\n",
        "    def check_boundary(self, state) :\n",
        "        state = list(state) # 튜플은 수정할 수 없기 때문에 list\n",
        "        for i in range(2) :\n",
        "            if state[i] < 0 :\n",
        "                state[i] = 0\n",
        "            if i==0 and state[i] >= self.height :\n",
        "                state[i] = self.height-1\n",
        "            if i==1 and state[i] >= self.width :\n",
        "                state[i] = self.width-1\n",
        "        return tuple(state) # 다시 튜플로 return\n",
        "\n",
        "        # #2\n",
        "        # def state_after_action(self, state, action_idx:int) :\n",
        "        #     action=self.action_space[action_idx] # up down ..\n",
        "        #     rm, cm = self.actions[action]\n",
        "        #     next_state = (state[0]+rm,state[1]+cm)\n",
        "        #     return self.check_boundary(next_state)\n",
        "\n",
        "        # #1\n",
        "        # def get_reward (self, state, action_idx) :\n",
        "        #     next_state = self.state_after_action(state, action_idx)\n",
        "        #     return self.reward[next_state[0]][next_state[1]]"
      ],
      "metadata": {
        "id": "Y5hWUQ4k3sxy"
      },
      "execution_count": null,
      "outputs": []
    },
    {
      "cell_type": "code",
      "source": [
        "g=GridWorldEnvironment(start_point = (0,0), end_point=(4,4), gridworld_size=(5,5))\n",
        "print(g.actions)"
      ],
      "metadata": {
        "colab": {
          "base_uri": "https://localhost:8080/"
        },
        "id": "I1lhU-mJ8ZFn",
        "outputId": "2dd0963d-245c-4cd7-b1db-34b56e7a7cc0"
      },
      "execution_count": null,
      "outputs": [
        {
          "output_type": "stream",
          "name": "stdout",
          "text": [
            "{'up': (-1, 0), 'down': (1, 0), 'left': (0, -1), 'right': (0, 1)}\n"
          ]
        }
      ]
    },
    {
      "cell_type": "code",
      "source": [
        "class SARSAAgent:\n",
        "    def __init__(self, action_space):\n",
        "        self.action_space = action_space\n",
        "        self.num_actions=len(action_space)\n",
        "\n",
        "        self.step_size=0.01\n",
        "        self.discount_factor=0.9\n",
        "        self.epsilon =1.0\n",
        "        self.epsilon_decay=0.999\n",
        "        self.epsilon_min =0.01\n",
        "\n",
        "        self.q_table=defaultdict(lambda: np.zeros(self.num_actions).tolist())\n",
        "\n",
        "    def update_q_table(self, state, action_idx, reward, next_state, next_action_idx):\n",
        "        if(self.epsilon>self.epsilon_min) :\n",
        "            self.epsilon*=self.epsilon_decay\n",
        "\n",
        "        state, next_state = str(state), str(next_state)\n",
        "\n",
        "        #######\n",
        "        current_q=self.q_table[state][action_idx] # 현재 상태에서 할 행동의 큐함수 값\n",
        "        next_q= self.q_table[next_state][next_action_idx]\n",
        "        td= reward + self.discount_factor*next_q - current_q # 시간차 time differnce\n",
        "        new_q = current_q + self.step_size * td\n",
        "        self.q_table[state][action_idx] = new_q\n",
        "        ######\n",
        "\n",
        "    def get_action(self,state) :\n",
        "        if np.random.rand()<self.epsilon:\n",
        "            action_idx=np.random.choice(range(self.num_actions))\n",
        "        else :\n",
        "            state=str(state)\n",
        "            q_list= self.q_table[state]\n",
        "            action_idx = self.argmax(q_list)\n",
        "        return action_idx\n",
        "\n",
        "    def argmax(self,q_list) :\n",
        "        max_value=np.amax(q_list) # 큐함수 중 가장 큰 인덱스 값 리턴\n",
        "        max_indices = np.where(q_list==max_value)[0]\n",
        "        return np.random.choice(max_indices)\n"
      ],
      "metadata": {
        "id": "Gp0Ol_7_HD4g"
      },
      "execution_count": null,
      "outputs": []
    },
    {
      "cell_type": "code",
      "source": [
        "env=GridWorldEnvironment(start_point = (0,0), end_point=(4,4), gridworld_size=(5,5))\n",
        "\n",
        "agent=SARSAAgent(env.action_space)\n",
        "\n",
        "EPISODES=1000\n",
        "RENDER_PROCESS = False\n",
        "RENDER_END = False\n",
        "total_moves = []"
      ],
      "metadata": {
        "id": "D2REihXaHrqH"
      },
      "execution_count": null,
      "outputs": []
    },
    {
      "cell_type": "code",
      "source": [
        "for episode in range(EPISODES):\n",
        "    state=env.reset()\n",
        "    moves_cnt=0\n",
        "    action_idx=agent.get_action(state) # state 에서의 최대 큐함수 값을 받음\n",
        "\n",
        "    done=False\n",
        "\n",
        "    while not done:\n",
        "        if RENDER_PROCESS:\n",
        "            env.render()\n",
        "\n",
        "        next_state, reward, done = env.step(action_idx)\n",
        "\n",
        "        next_action_idx = agent.get_action(next_state)\n",
        "\n",
        "        agent.update_q_table(state, action_idx, reward, next_state, next_action_idx)\n",
        "\n",
        "        state = next_state\n",
        "        action_idx = next_action_idx\n",
        "\n",
        "        moves_cnt+=1\n",
        "\n",
        "    total_moves.append(moves_cnt)\n",
        "\n",
        "    if(episode+1 ) %100 == 0 :\n",
        "        print(f\"[Episode]: {episode+1}/{EPISODES} __ [Num of Moves mean]:{np.mean(total_moves[episode-99:]):.1f} __ [Epsilon]: {agent.epsilon:.3f}\")\n",
        "\n",
        "    if RENDER_END:\n",
        "        env.render()"
      ],
      "metadata": {
        "colab": {
          "base_uri": "https://localhost:8080/"
        },
        "id": "eewHLADHKlzY",
        "outputId": "f9a6a220-0c60-4cc4-fc96-734e1dc4e3b9"
      },
      "execution_count": null,
      "outputs": [
        {
          "output_type": "stream",
          "name": "stdout",
          "text": [
            "[Episode]: 100/1000 __ [Num of Moves mean]:16.1 __ [Epsilon]: 0.199\n",
            "[Episode]: 200/1000 __ [Num of Moves mean]:9.1 __ [Epsilon]: 0.080\n",
            "[Episode]: 300/1000 __ [Num of Moves mean]:8.5 __ [Epsilon]: 0.034\n",
            "[Episode]: 400/1000 __ [Num of Moves mean]:8.1 __ [Epsilon]: 0.015\n",
            "[Episode]: 500/1000 __ [Num of Moves mean]:8.1 __ [Epsilon]: 0.010\n",
            "[Episode]: 600/1000 __ [Num of Moves mean]:8.1 __ [Epsilon]: 0.010\n",
            "[Episode]: 700/1000 __ [Num of Moves mean]:8.1 __ [Epsilon]: 0.010\n",
            "[Episode]: 800/1000 __ [Num of Moves mean]:8.0 __ [Epsilon]: 0.010\n",
            "[Episode]: 900/1000 __ [Num of Moves mean]:8.1 __ [Epsilon]: 0.010\n",
            "[Episode]: 1000/1000 __ [Num of Moves mean]:8.0 __ [Epsilon]: 0.010\n"
          ]
        }
      ]
    },
    {
      "cell_type": "code",
      "source": [
        "env.render()"
      ],
      "metadata": {
        "colab": {
          "base_uri": "https://localhost:8080/"
        },
        "id": "uOEcaZcbLIup",
        "outputId": "c83815af-88ae-40af-d623-e2f6ee6772f4"
      },
      "execution_count": null,
      "outputs": [
        {
          "output_type": "stream",
          "name": "stdout",
          "text": [
            "S X . . . \n",
            ". X X X . \n",
            ". . . X . \n",
            ". . . X X \n",
            ". . . . A \n"
          ]
        }
      ]
    },
    {
      "cell_type": "code",
      "source": [
        "plt.plot(total_moves)\n",
        "plt.ylabel(\"cnt\")\n",
        "plt.xlabel(\"episodes\")\n",
        "plt.title(\"Num of Moves\")\n",
        "plt.show()"
      ],
      "metadata": {
        "colab": {
          "base_uri": "https://localhost:8080/",
          "height": 472
        },
        "id": "SEeq1hE3MnKR",
        "outputId": "672be048-f282-47e3-97a7-332a019ddc63"
      },
      "execution_count": null,
      "outputs": [
        {
          "output_type": "display_data",
          "data": {
            "text/plain": [
              "<Figure size 640x480 with 1 Axes>"
            ],
            "image/png": "[encoded data removed]"
          },
          "metadata": {}
        }
      ]
    },
    {
      "cell_type": "code",
      "source": [
        "class QlearningAgent:\n",
        "    def __init__(self, action_space):\n",
        "        self.action_space = action_space\n",
        "        self.num_actions=len(action_space)\n",
        "\n",
        "        self.step_size=0.01\n",
        "        self.discount_factor=0.9\n",
        "        self.epsilon =1.0\n",
        "        self.epsilon_decay=0.999\n",
        "        self.epsilon_min =0.01\n",
        "\n",
        "        self.q_table=defaultdict(lambda: np.zeros(self.num_actions).tolist())\n",
        "\n",
        "    def update_q_table(self, state, action_idx, reward, next_state, next_action_idx):\n",
        "        if(self.epsilon>self.epsilon_min) :\n",
        "            self.epsilon*=self.epsilon_decay\n",
        "\n",
        "        state, next_state = str(state), str(next_state)\n",
        "\n",
        "        #############\n",
        "        q_1=self.q_table[state][action_idx]\n",
        "        q_2=reward = reward + self.discount_factor*max(self.q_table[next_state])\n",
        "        self.q_table[state][action_idx] += self.step_size * (q_2 - q_1)\n",
        "        ############\n",
        "\n",
        "    def get_action(self,state) :\n",
        "        if np.random.rand()<self.epsilon:\n",
        "            action_idx=np.random.choice(range(self.num_actions))\n",
        "        else :\n",
        "            state=str(state)\n",
        "            q_list= self.q_table[state]\n",
        "            action_idx = self.argmax(q_list)\n",
        "        return action_idx\n",
        "\n",
        "    def argmax(self,q_list) :\n",
        "        max_value=np.amax(q_list) # 큐함수 중 가장 큰 인덱스 값 리턴\n",
        "        max_indices = np.where(q_list==max_value)[0]\n",
        "        return np.random.choice(max_indices)\n"
      ],
      "metadata": {
        "id": "Mqqoy4oHMvBr"
      },
      "execution_count": null,
      "outputs": []
    },
    {
      "cell_type": "code",
      "source": [
        "env=GridWorldEnvironment(start_point = (0,0), end_point=(4,4), gridworld_size=(5,5))\n",
        "\n",
        "agent=QlearningAgent(env.action_space)\n",
        "\n",
        "EPISODES=1000\n",
        "RENDER_PROCESS = False\n",
        "RENDER_END = False\n",
        "total_moves = []"
      ],
      "metadata": {
        "id": "JXYwjtLhPIvB"
      },
      "execution_count": null,
      "outputs": []
    },
    {
      "cell_type": "code",
      "source": [
        "for episode in range(EPISODES):\n",
        "    state=env.reset()\n",
        "    moves_cnt=0\n",
        "    action_idx=agent.get_action(state) # state 에서의 최대 큐함수 값을 받음\n",
        "\n",
        "    done=False\n",
        "\n",
        "    while not done:\n",
        "        if RENDER_PROCESS:\n",
        "            env.render()\n",
        "\n",
        "        next_state, reward, done = env.step(action_idx)\n",
        "\n",
        "        next_action_idx = agent.get_action(next_state)\n",
        "\n",
        "        agent.update_q_table(state, action_idx, reward, next_state, next_action_idx)\n",
        "\n",
        "        state = next_state\n",
        "        action_idx = next_action_idx\n",
        "\n",
        "        moves_cnt+=1\n",
        "\n",
        "    total_moves.append(moves_cnt)\n",
        "\n",
        "    if(episode+1 ) %100 == 0 :\n",
        "        print(f\"[Episode]: {episode+1}/{EPISODES} __ [Num of Moves mean]:{np.mean(total_moves[episode-99:]):.1f} __ [Epsilon]: {agent.epsilon:.3f}\")\n",
        "\n",
        "    if RENDER_END:\n",
        "        env.render()"
      ],
      "metadata": {
        "colab": {
          "base_uri": "https://localhost:8080/"
        },
        "id": "9bcV7KryPJXB",
        "outputId": "f9cffaa1-faaa-489f-baee-746acb4de336"
      },
      "execution_count": null,
      "outputs": [
        {
          "output_type": "stream",
          "name": "stdout",
          "text": [
            "[Episode]: 100/1000 __ [Num of Moves mean]:16.1 __ [Epsilon]: 0.199\n",
            "[Episode]: 200/1000 __ [Num of Moves mean]:9.1 __ [Epsilon]: 0.080\n",
            "[Episode]: 300/1000 __ [Num of Moves mean]:8.5 __ [Epsilon]: 0.034\n",
            "[Episode]: 400/1000 __ [Num of Moves mean]:8.2 __ [Epsilon]: 0.015\n",
            "[Episode]: 500/1000 __ [Num of Moves mean]:8.1 __ [Epsilon]: 0.010\n",
            "[Episode]: 600/1000 __ [Num of Moves mean]:8.1 __ [Epsilon]: 0.010\n",
            "[Episode]: 700/1000 __ [Num of Moves mean]:8.1 __ [Epsilon]: 0.010\n",
            "[Episode]: 800/1000 __ [Num of Moves mean]:8.1 __ [Epsilon]: 0.010\n",
            "[Episode]: 900/1000 __ [Num of Moves mean]:8.1 __ [Epsilon]: 0.010\n",
            "[Episode]: 1000/1000 __ [Num of Moves mean]:8.1 __ [Epsilon]: 0.010\n"
          ]
        }
      ]
    },
    {
      "cell_type": "code",
      "source": [
        "env.render()"
      ],
      "metadata": {
        "colab": {
          "base_uri": "https://localhost:8080/"
        },
        "id": "76ZK-4BAPTpf",
        "outputId": "79f04e1b-b87b-49b1-94e6-8a27f7f75d68"
      },
      "execution_count": null,
      "outputs": [
        {
          "output_type": "stream",
          "name": "stdout",
          "text": [
            "S . . . . \n",
            "X X . . . \n",
            ". X X X X \n",
            ". . . . X \n",
            ". . . . A \n"
          ]
        }
      ]
    },
    {
      "cell_type": "code",
      "source": [
        "plt.plot(total_moves)\n",
        "plt.ylabel(\"cnt\")\n",
        "plt.xlabel(\"episodes\")\n",
        "plt.title(\"Num of Moves\")\n",
        "plt.show()"
      ],
      "metadata": {
        "colab": {
          "base_uri": "https://localhost:8080/",
          "height": 472
        },
        "id": "GX8loq4rPUzN",
        "outputId": "13246259-6d5f-42f7-9988-086aaaf6ad27"
      },
      "execution_count": null,
      "outputs": [
        {
          "output_type": "display_data",
          "data": {
            "text/plain": [
              "<Figure size 640x480 with 1 Axes>"
            ],
            "image/png": "[encoded data removed]"
          },
          "metadata": {}
        }
      ]
    },
    {
      "cell_type": "code",
      "source": [],
      "metadata": {
        "id": "jOGwEpdc9hV-"
      },
      "execution_count": null,
      "outputs": []
    }
  ]
}
