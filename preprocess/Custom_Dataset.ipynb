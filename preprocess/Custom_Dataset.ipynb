{
  "nbformat": 4,
  "nbformat_minor": 0,
  "metadata": {
    "colab": {
      "provenance": [],
      "authorship_tag": "ABX9TyO9DTQ+LksZIekbuvtEnqYi"
    },
    "kernelspec": {
      "name": "python3",
      "display_name": "Python 3"
    },
    "language_info": {
      "name": "python"
    }
  },
  "cells": [
    {
      "cell_type": "code",
      "execution_count": 43,
      "metadata": {
        "id": "2YkxZ6-nUNlA"
      },
      "outputs": [],
      "source": [
        "import torch\n",
        "from torchvision import transforms\n",
        "import numpy as np"
      ]
    },
    {
      "cell_type": "code",
      "source": [
        "class Custom_Dataset(torch.utils.data.Dataset) :\n",
        "    def __init__(self, X, Y, transform=None) : # 입력, 출력 데이터\n",
        "        self.X=X\n",
        "        self.Y=Y\n",
        "        self.transform= transform\n",
        "\n",
        "    def __len__(self) :\n",
        "        return self.X.shape[0] # 개채행열의 개\n",
        "\n",
        "    def __getitem__(self, idx) :\n",
        "        x= self.X[idx]\n",
        "        if self.transform is not None:\n",
        "            x = self.transform(x)\n",
        "        y=self.Y[idx]\n",
        "        return x,y\n",
        "\n",
        "# len(test_DS) # test_DS 의 길이"
      ],
      "metadata": {
        "id": "Y-5X1lXQUcw_"
      },
      "execution_count": 49,
      "outputs": []
    },
    {
      "cell_type": "code",
      "source": [
        "X_data = np.arange(-10,10) # 20개 데이터\n",
        "print(X_data.shape) # 채만 있어보임\n",
        "X_data = np.arange(-10,10).reshape(-1,1) # 1개의 데이터를 가지는 20개 채널\n",
        "print(X_data.shape)\n",
        "\n",
        "Y_data = X_data**2"
      ],
      "metadata": {
        "colab": {
          "base_uri": "https://localhost:8080/"
        },
        "id": "f07NPVfUV5ei",
        "outputId": "f64abd0a-6ff5-4362-d6b3-79dd0176575a"
      },
      "execution_count": 50,
      "outputs": [
        {
          "output_type": "stream",
          "name": "stdout",
          "text": [
            "(20,)\n",
            "(20, 1)\n"
          ]
        }
      ]
    },
    {
      "cell_type": "code",
      "source": [
        "transform = lambda x:x+1\n",
        "BATCH_SIZE = 8\n",
        "\n",
        "custom_DS = Custom_Dataset(X_data, Y_data, transform=transform) # tensor 형태로 바뀜\n",
        "\n",
        "\n",
        "NoT = int(len(custom_DS)*0.8)\n",
        "NoV = int(len(custom_DS)*0.1)\n",
        "NoTes = len(custom_DS) - NoT - NoV\n",
        "\n",
        "train_DS, val_DS, test_DS = torch.utils.data.random_split(custom_DS,[NoT,NoV,NoTes])\n",
        "\n",
        "print(len(train_DS))\n",
        "print(len(val_DS))\n",
        "print(len(test_DS))"
      ],
      "metadata": {
        "colab": {
          "base_uri": "https://localhost:8080/"
        },
        "id": "csuzoaDlXcRj",
        "outputId": "65310778-3ff8-4532-ce85-4d307372a034"
      },
      "execution_count": 51,
      "outputs": [
        {
          "output_type": "stream",
          "name": "stdout",
          "text": [
            "16\n",
            "2\n",
            "2\n"
          ]
        }
      ]
    },
    {
      "cell_type": "code",
      "source": [
        "train_DL = torch.utils.data.DataLoader(train_DS, batch_size=BATCH_SIZE, shuffle=True)\n",
        "val_DL = torch.utils.data.DataLoader(val_DS, batch_size=BATCH_SIZE, shuffle=True)\n",
        "test_DL = torch.utils.data.DataLoader(test_DS, batch_size=BATCH_SIZE, shuffle=True)"
      ],
      "metadata": {
        "id": "9MVPvLK7Zj9j"
      },
      "execution_count": 52,
      "outputs": []
    },
    {
      "cell_type": "code",
      "source": [
        "for x_batch, y_batch in train_DL :\n",
        "    print(f\"x_batch = {x_batch.reshape(-1)}, \\n\"\n",
        "    f\"y_batch = {y_batch.reshape(-1)}\")\n",
        "\n",
        "print()\n",
        "\n",
        "for x_batch, y_batch in val_DL :\n",
        "    print(f\"x_batch = {x_batch.reshape(-1)}, \\n\"\n",
        "    f\"y_batch = {y_batch.reshape(-1)}\")\n",
        "\n",
        "print()\n",
        "\n",
        "for x_batch, y_batch in test_DL :\n",
        "    print(f\"x_batch = {x_batch.reshape(-1)}, \\n\"\n",
        "    f\"y_batch = {y_batch.reshape(-1)}\")"
      ],
      "metadata": {
        "colab": {
          "base_uri": "https://localhost:8080/"
        },
        "id": "vKjC_GxUZx40",
        "outputId": "7ebcb556-ac61-4dd1-9ed9-cf47eb15e288"
      },
      "execution_count": 57,
      "outputs": [
        {
          "output_type": "stream",
          "name": "stdout",
          "text": [
            "x_batch = tensor([ 5,  4,  7,  8, -7,  1, -4, -9]), \n",
            "y_batch = tensor([ 16,   9,  36,  49,  64,   0,  25, 100])\n",
            "x_batch = tensor([-1, -6,  2,  6, -5,  3, -8,  0]), \n",
            "y_batch = tensor([ 4, 49,  1, 25, 36,  4, 81,  1])\n",
            "\n",
            "x_batch = tensor([ 9, -2]), \n",
            "y_batch = tensor([64,  9])\n",
            "\n",
            "x_batch = tensor([-3, 10]), \n",
            "y_batch = tensor([16, 81])\n"
          ]
        }
      ]
    }
  ]
}
